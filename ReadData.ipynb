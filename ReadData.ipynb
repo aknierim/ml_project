{
 "cells": [
  {
   "cell_type": "code",
   "execution_count": 1,
   "id": "4805dc7a-1f31-45fe-868e-64eda1134e71",
   "metadata": {},
   "outputs": [],
   "source": [
    "import h5py\n",
    "import numpy as np\n",
    "from astropy.table import Table\n",
    "from firstgalaxydata import FIRSTGalaxyData"
   ]
  },
  {
   "cell_type": "code",
   "execution_count": null,
   "id": "d4c36bf4-ed49-4672-8a26-c9b40d9bc679",
   "metadata": {},
   "outputs": [],
   "source": [
    "with h5py.File(\"build/galaxy_data_h5.h5\", \"r\") as file:\n",
    "    data = file[\"data_0\"]"
   ]
  },
  {
   "cell_type": "code",
   "execution_count": 105,
   "id": "f2cadf60-e97d-4a86-a282-acfdf198160d",
   "metadata": {
    "scrolled": true
   },
   "outputs": [],
   "source": [
    "idx = []\n",
    "entries = []\n",
    "ra = []\n",
    "dec = []\n",
    "sources = []\n",
    "filepaths = []\n",
    "labels = []\n",
    "splits = []\n",
    "\n",
    "with h5py.File(\"build/galaxy_data_h5.h5\", \"r\") as file:\n",
    "    for i, key in enumerate(file.keys()):\n",
    "        data_entry = file[key + \"/Img\"]\n",
    "        label_entry = file[key + \"/Label_literature\"]\n",
    "        split_entry = file[key + \"/Split_literature\"]\n",
    "\n",
    "        idx.append(i)\n",
    "        entries.append(np.array(data_entry))\n",
    "        ra.append(np.array(data_entry.attrs[\"RA\"]))\n",
    "        dec.append(np.array(data_entry.attrs[\"DEC\"]))\n",
    "        sources.append(np.array(data_entry.attrs[\"Source\"]))\n",
    "        filepaths.append(np.array(data_entry.attrs[\"Filepath_literature\"]))\n",
    "        labels.append(np.array(label_entry).astype(int))\n",
    "        splits.append(np.array(split_entry, dtype=str))"
   ]
  },
  {
   "cell_type": "code",
   "execution_count": 107,
   "id": "fb08c3b2-ffcd-48fb-ac41-220594a8f737",
   "metadata": {},
   "outputs": [],
   "source": [
    "t = Table(\n",
    "    [idx, entries, ra, dec, sources, filepaths, labels, splits],\n",
    "    names=(\"index\", \"img\", \"RA\", \"DEC\", \"source\", \"filepath\", \"label\", \"split\"),\n",
    ")"
   ]
  },
  {
   "cell_type": "code",
   "execution_count": 143,
   "id": "43ba851d-9930-4e6c-83bb-eeec5689e26b",
   "metadata": {},
   "outputs": [
    {
     "data": {
      "text/html": [
       "<div><i>Table length=2158</i>\n",
       "<table id=\"table125957791801168\" class=\"table-striped table-bordered table-condensed\">\n",
       "<thead><tr><th>index</th><th>img</th><th>RA</th><th>DEC</th><th>source</th><th>filepath</th><th>label</th><th>split</th></tr></thead>\n",
       "<thead><tr><th>int64</th><th>uint8[300,300]</th><th>float64</th><th>float64</th><th>str12</th><th>str38</th><th>int64</th><th>str5</th></tr></thead>\n",
       "<tr><td>0</td><td>0 .. 0</td><td>116.785</td><td>17.291</td><td>MiraBest</td><td>FRI/116.785_17.291_0_MiraBest.png</td><td>0</td><td>test</td></tr>\n",
       "<tr><td>1</td><td>0 .. 0</td><td>167.886</td><td>16.439</td><td>MiraBest</td><td>FRI/167.886_16.439_0_MiraBest.png</td><td>0</td><td>test</td></tr>\n",
       "<tr><td>2</td><td>0 .. 0</td><td>217.904</td><td>52.457</td><td>MiraBest</td><td>FRI/217.904_52.457_0_MiraBest.png</td><td>0</td><td>test</td></tr>\n",
       "<tr><td>3</td><td>0 .. 0</td><td>256.372</td><td>22.269</td><td>MiraBest</td><td>FRI/256.372_22.269_0_MiraBest.png</td><td>0</td><td>train</td></tr>\n",
       "<tr><td>4</td><td>0 .. 0</td><td>213.132</td><td>14.011</td><td>Capetti2017b</td><td>FRII/213.132_14.011_1_Capetti2017b.png</td><td>1</td><td>train</td></tr>\n",
       "<tr><td>5</td><td>0 .. 0</td><td>216.684</td><td>49.544</td><td>MiraBest</td><td>FRII/216.684_49.544_1_MiraBest.png</td><td>1</td><td>train</td></tr>\n",
       "<tr><td>6</td><td>0 .. 0</td><td>221.936</td><td>16.602</td><td>Gendre</td><td>FRII/221.936_16.602_1_Gendre.png</td><td>1</td><td>train</td></tr>\n",
       "<tr><td>7</td><td>0 .. 0</td><td>169.03</td><td>24.939</td><td>MiraBest</td><td>FRII/169.03_24.939_1_MiraBest.png</td><td>1</td><td>train</td></tr>\n",
       "<tr><td>8</td><td>0 .. 0</td><td>212.484</td><td>-2.768</td><td>Gendre</td><td>FRII/212.484_-2.768_1_Gendre.png</td><td>1</td><td>train</td></tr>\n",
       "<tr><td>...</td><td>...</td><td>...</td><td>...</td><td>...</td><td>...</td><td>...</td><td>...</td></tr>\n",
       "<tr><td>2148</td><td>0 .. 0</td><td>157.35</td><td>61.45</td><td>MiraBest</td><td>FRII/157.35_61.45_1_MiraBest.png</td><td>1</td><td>train</td></tr>\n",
       "<tr><td>2149</td><td>0 .. 0</td><td>193.549</td><td>27.626</td><td>Gendre</td><td>FRII/193.549_27.626_1_Gendre.png</td><td>1</td><td>test</td></tr>\n",
       "<tr><td>2150</td><td>0 .. 0</td><td>207.795</td><td>7.479</td><td>MiraBest</td><td>FRII/207.795_7.479_1_MiraBest.png</td><td>1</td><td>train</td></tr>\n",
       "<tr><td>2151</td><td>0 .. 0</td><td>226.788</td><td>16.121</td><td>Gendre</td><td>FRII/226.788_16.121_1_Gendre.png</td><td>1</td><td>train</td></tr>\n",
       "<tr><td>2152</td><td>0 .. 0</td><td>219.486</td><td>1.944</td><td>Gendre</td><td>FRII/219.486_1.944_1_Gendre.png</td><td>1</td><td>train</td></tr>\n",
       "<tr><td>2153</td><td>0 .. 0</td><td>196.919</td><td>6.212</td><td>MiraBest</td><td>FRII/196.919_6.212_1_MiraBest.png</td><td>1</td><td>train</td></tr>\n",
       "<tr><td>2154</td><td>0 .. 0</td><td>236.781</td><td>11.714</td><td>Gendre</td><td>FRII/236.781_11.714_1_Gendre.png</td><td>1</td><td>train</td></tr>\n",
       "<tr><td>2155</td><td>0 .. 0</td><td>138.017</td><td>16.308</td><td>Gendre</td><td>FRII/138.017_16.308_1_Gendre.png</td><td>1</td><td>train</td></tr>\n",
       "<tr><td>2156</td><td>0 .. 0</td><td>237.494</td><td>62.689</td><td>Gendre</td><td>FRII/237.494_62.689_1_Gendre.png</td><td>1</td><td>train</td></tr>\n",
       "<tr><td>2157</td><td>0 .. 0</td><td>178.263</td><td>11.122</td><td>Gendre</td><td>FRII/178.263_11.122_1_Gendre.png</td><td>1</td><td>train</td></tr>\n",
       "</table></div>"
      ],
      "text/plain": [
       "<Table length=2158>\n",
       "index      img          RA   ... label split\n",
       "int64 uint8[300,300] float64 ... int64  str5\n",
       "----- -------------- ------- ... ----- -----\n",
       "    0         0 .. 0 116.785 ...     0  test\n",
       "    1         0 .. 0 167.886 ...     0  test\n",
       "    2         0 .. 0 217.904 ...     0  test\n",
       "    3         0 .. 0 256.372 ...     0 train\n",
       "    4         0 .. 0 213.132 ...     1 train\n",
       "    5         0 .. 0 216.684 ...     1 train\n",
       "    6         0 .. 0 221.936 ...     1 train\n",
       "    7         0 .. 0  169.03 ...     1 train\n",
       "    8         0 .. 0 212.484 ...     1 train\n",
       "  ...            ...     ... ...   ...   ...\n",
       " 2148         0 .. 0  157.35 ...     1 train\n",
       " 2149         0 .. 0 193.549 ...     1  test\n",
       " 2150         0 .. 0 207.795 ...     1 train\n",
       " 2151         0 .. 0 226.788 ...     1 train\n",
       " 2152         0 .. 0 219.486 ...     1 train\n",
       " 2153         0 .. 0 196.919 ...     1 train\n",
       " 2154         0 .. 0 236.781 ...     1 train\n",
       " 2155         0 .. 0 138.017 ...     1 train\n",
       " 2156         0 .. 0 237.494 ...     1 train\n",
       " 2157         0 .. 0 178.263 ...     1 train"
      ]
     },
     "execution_count": 143,
     "metadata": {},
     "output_type": "execute_result"
    }
   ],
   "source": [
    "t"
   ]
  },
  {
   "cell_type": "code",
   "execution_count": null,
   "id": "449080fc-768a-48ea-b434-4c6f13ef288e",
   "metadata": {},
   "outputs": [],
   "source": []
  }
 ],
 "metadata": {
  "kernelspec": {
   "display_name": "Python 3 (ipykernel)",
   "language": "python",
   "name": "python3"
  },
  "language_info": {
   "codemirror_mode": {
    "name": "ipython",
    "version": 3
   },
   "file_extension": ".py",
   "mimetype": "text/x-python",
   "name": "python",
   "nbconvert_exporter": "python",
   "pygments_lexer": "ipython3",
   "version": "3.11.9"
  }
 },
 "nbformat": 4,
 "nbformat_minor": 5
}
