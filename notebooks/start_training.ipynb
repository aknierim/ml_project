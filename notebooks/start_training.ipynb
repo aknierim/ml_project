{
 "cells": [
  {
   "cell_type": "code",
   "execution_count": 1,
   "id": "6c5ca76f-2503-4019-af6e-d2e85a197e1f",
   "metadata": {},
   "outputs": [],
   "source": [
    "from rolf.tools.toml_reader import ReadConfig"
   ]
  },
  {
   "cell_type": "code",
   "execution_count": 2,
   "id": "001e66a0-d02e-4a35-b85b-504b1b7d6606",
   "metadata": {
    "scrolled": true
   },
   "outputs": [],
   "source": [
    "config = ReadConfig(\"../configs/trainrc.toml\")\n",
    "train_config = config.training()"
   ]
  },
  {
   "cell_type": "code",
   "execution_count": 3,
   "id": "18f3ead6-268a-4b6b-94d9-b28111b80313",
   "metadata": {},
   "outputs": [
    {
     "data": {
      "text/plain": [
       "{'paths': {'data': PosixPath('data'), 'model': PosixPath('build/models')},\n",
       " 'mode': {'verbose': True, 'gpu': True},\n",
       " 'parameters': {'batch_size': 256, 'epochs': 300, 'loss_func': 'mse'},\n",
       " 'model_name': 'ResNet',\n",
       " 'net_hyperparams': {'num_classes': 4,\n",
       "  'hidden_channels': [16, 32, 64, 128],\n",
       "  'block_groups': [2, 2, 2, 2],\n",
       "  'block_name': 'ResBlock',\n",
       "  'activation_name': 'relu'},\n",
       " 'optimizer': 'SGD',\n",
       " 'opt_hyperparams': {'lr': 0.1, 'momentum': 0.9, 'weight_decay': 0.0001}}"
      ]
     },
     "execution_count": 3,
     "metadata": {},
     "output_type": "execute_result"
    }
   ],
   "source": [
    "train_config"
   ]
  },
  {
   "cell_type": "code",
   "execution_count": 4,
   "id": "1970344d-ecd9-48ab-bfba-ef8bede25a14",
   "metadata": {},
   "outputs": [],
   "source": [
    "from rolf.training.training import TrainModule, train_model"
   ]
  },
  {
   "cell_type": "code",
   "execution_count": 5,
   "id": "e96aa704-f274-426c-94ee-8cf7285e4f83",
   "metadata": {},
   "outputs": [
    {
     "name": "stdout",
     "output_type": "stream",
     "text": [
      "{'num_classes': 4, 'hidden_channels': [16, 32, 64, 128], 'block_groups': [2, 2, 2, 2], 'activation_name': 'relu', 'activation': <class 'torch.nn.modules.activation.ReLU'>, 'block_type': <class 'rolf.architecture.blocks.ResBlock'>}\n"
     ]
    }
   ],
   "source": [
    "tm = TrainModule(\n",
    "    model_name=train_config[\"model_name\"],\n",
    "    model_hparams=train_config[\"net_hyperparams\"],\n",
    "    optimizer_name=train_config[\"optimizer\"],\n",
    "    optimizer_hparams=train_config[\"opt_hyperparams\"]\n",
    ")"
   ]
  },
  {
   "cell_type": "code",
   "execution_count": 6,
   "id": "bf4f4d15-8573-4319-bf2d-6903213ccb08",
   "metadata": {},
   "outputs": [],
   "source": [
    "import torch\n",
    "from rolf.io import read_hdf5"
   ]
  },
  {
   "cell_type": "code",
   "execution_count": null,
   "id": "e55fa23e-147c-429f-bbed-a9867160ea9f",
   "metadata": {},
   "outputs": [],
   "source": [
    "data = read_hdf5(\"../data/galaxy_data_h5.h5\")"
   ]
  },
  {
   "cell_type": "code",
   "execution_count": null,
   "id": "f8139944-9654-4f16-929c-a37d21140863",
   "metadata": {},
   "outputs": [],
   "source": [
    "data.columns"
   ]
  },
  {
   "cell_type": "code",
   "execution_count": null,
   "id": "71fdd47d-6403-49e7-9c85-f7dca1c9d933",
   "metadata": {},
   "outputs": [],
   "source": [
    "import pandas as pd"
   ]
  },
  {
   "cell_type": "code",
   "execution_count": null,
   "id": "728c4808-d8c3-4628-a697-ae6e97fca776",
   "metadata": {},
   "outputs": [],
   "source": [
    "def _get_split(split):\n",
    "    temp = data[[\"img\", \"label\"]][data[\"split\"] == split]\n",
    "    df = pd.DataFrame({\"img\": [img for img in temp[\"img\"]], \"label\": temp[\"label\"]})\n",
    "    return df\n",
    "\n",
    "\n",
    "train = _get_split(\"train\")\n",
    "test = _get_split(\"test\")\n",
    "valid = _get_split(\"valid\")"
   ]
  },
  {
   "cell_type": "code",
   "execution_count": null,
   "id": "a7b2ff81-93c3-41f9-beff-fdbe14ee660f",
   "metadata": {},
   "outputs": [],
   "source": [
    "from rolf.io import CreateTorchDataset"
   ]
  },
  {
   "cell_type": "code",
   "execution_count": null,
   "id": "7af1b19e-bc59-4264-852e-e13b03df8ebd",
   "metadata": {},
   "outputs": [],
   "source": [
    "train_set = CreateTorchDataset(train)\n",
    "test_set = CreateTorchDataset(test)\n",
    "valid_set = CreateTorchDataset(valid)"
   ]
  },
  {
   "cell_type": "code",
   "execution_count": null,
   "id": "9550134f-94e9-4b4f-98f5-80c987466158",
   "metadata": {},
   "outputs": [],
   "source": [
    "train[\"img\"][0]"
   ]
  },
  {
   "cell_type": "code",
   "execution_count": null,
   "id": "543c0607-6ba0-4e33-842c-ad81636bb9cf",
   "metadata": {},
   "outputs": [],
   "source": [
    "train_loader = torch.utils.data.DataLoader(train_set, batch_size=100, shuffle=True, drop_last=True, pin_memory=True, num_workers=4)\n",
    "val_loader = torch.utils.data.DataLoader(valid_set, batch_size=100, shuffle=False, drop_last=False, num_workers=4)\n",
    "test_loader = torch.utils.data.DataLoader(test_set, batch_size=100, shuffle=False, drop_last=False, num_workers=4)"
   ]
  },
  {
   "cell_type": "code",
   "execution_count": null,
   "id": "b8b2e5ab-d056-4f9c-8ef9-71114f5a2d5b",
   "metadata": {},
   "outputs": [],
   "source": [
    "model, result = train_model(\n",
    "    train_config[\"model_name\"],\n",
    "    train_loader,\n",
    "    val_loader,\n",
    "    test_loader,\n",
    "    checkpoint_path=\"../build/checkpoints/\",\n",
    "    epochs=10,\n",
    "    model_hparams=train_config[\"net_hyperparams\"],\n",
    "    optimizer_name=train_config[\"optimizer\"],\n",
    "    optimizer_hparams=train_config[\"opt_hyperparams\"]\n",
    ")"
   ]
  },
  {
   "cell_type": "code",
   "execution_count": null,
   "id": "ab81afe7-32b6-4542-b90b-6b1da6115a85",
   "metadata": {},
   "outputs": [],
   "source": []
  }
 ],
 "metadata": {
  "kernelspec": {
   "display_name": "Python 3 (ipykernel)",
   "language": "python",
   "name": "python3"
  },
  "language_info": {
   "codemirror_mode": {
    "name": "ipython",
    "version": 3
   },
   "file_extension": ".py",
   "mimetype": "text/x-python",
   "name": "python",
   "nbconvert_exporter": "python",
   "pygments_lexer": "ipython3",
   "version": "3.11.9"
  }
 },
 "nbformat": 4,
 "nbformat_minor": 5
}
