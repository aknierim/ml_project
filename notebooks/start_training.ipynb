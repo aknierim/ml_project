{
 "cells": [
  {
   "cell_type": "code",
   "execution_count": null,
   "id": "0",
   "metadata": {},
   "outputs": [],
   "source": [
    "from torch.cuda import OutOfMemoryError\n",
    "\n",
    "from rolf.io import ReadHDF5\n",
    "from rolf.tools.toml_reader import ReadConfig\n",
    "from rolf.training.training import train_model"
   ]
  },
  {
   "cell_type": "code",
   "execution_count": null,
   "id": "1",
   "metadata": {},
   "outputs": [],
   "source": [
    "config = ReadConfig(\"../configs/full_train.toml\")\n",
    "train_config = config.training()"
   ]
  },
  {
   "cell_type": "code",
   "execution_count": null,
   "id": "2",
   "metadata": {},
   "outputs": [],
   "source": [
    "train_config"
   ]
  },
  {
   "cell_type": "code",
   "execution_count": null,
   "id": "3",
   "metadata": {},
   "outputs": [],
   "source": [
    "data = ReadHDF5(\n",
    "    \"../data/galaxy_data_h5.h5\", random_state=423, validation_ratio=0.2, test_ratio=0.2\n",
    ")\n",
    "data.make_transformer()"
   ]
  },
  {
   "cell_type": "code",
   "execution_count": null,
   "id": "4",
   "metadata": {},
   "outputs": [],
   "source": [
    "result = None\n",
    "batch_size = train_config[\"batch_size\"]\n",
    "checkpoint_path = train_config[\"paths\"][\"model\"]\n",
    "\n",
    "while result is None:\n",
    "    try:\n",
    "        train_loader, val_loader, test_loader = data.create_data_loaders(\n",
    "            batch_size=batch_size, img_dir=\"../data/galaxy_data/all/\"\n",
    "        )\n",
    "        model, result, trainer = train_model(\n",
    "            train_config[\"model_name\"],\n",
    "            train_loader,\n",
    "            val_loader,\n",
    "            test_loader,\n",
    "            checkpoint_path=checkpoint_path,\n",
    "            epochs=train_config[\"epochs\"],\n",
    "            save_name=train_config[\"save_name\"],\n",
    "            model_hparams=train_config[\"net_hyperparams\"],\n",
    "            optimizer_name=train_config[\"optimizer\"],\n",
    "            optimizer_hparams=train_config[\"opt_hyperparams\"],\n",
    "            devices=2,\n",
    "            lr_scheduler=\"multistep_cyclic\",\n",
    "        )\n",
    "    except OutOfMemoryError as e:\n",
    "        print(e, \"Reducing batch_size\")\n",
    "        batch_size -= 1\n",
    "        print(\"New batch_size:\", batch_size)"
   ]
  },
  {
   "cell_type": "code",
   "execution_count": null,
   "id": "5",
   "metadata": {},
   "outputs": [],
   "source": [
    "result"
   ]
  }
 ],
 "metadata": {
  "kernelspec": {
   "display_name": "Python 3 (ipykernel)",
   "language": "python",
   "name": "python3"
  },
  "language_info": {
   "codemirror_mode": {
    "name": "ipython",
    "version": 3
   },
   "file_extension": ".py",
   "mimetype": "text/x-python",
   "name": "python",
   "nbconvert_exporter": "python",
   "pygments_lexer": "ipython3",
   "version": "3.11.9"
  }
 },
 "nbformat": 4,
 "nbformat_minor": 5
}
