{
 "cells": [
  {
   "cell_type": "code",
   "execution_count": 1,
   "id": "0",
   "metadata": {},
   "outputs": [],
   "source": [
    "import lightning as L\n",
    "import matplotlib.pyplot as plt\n",
    "import numpy as np\n",
    "import pandas as pd\n",
    "import torch\n",
    "from torchvision import transforms\n",
    "\n",
    "import os\n",
    "\n",
    "from rolf.io import CreateTorchDataset, ReadHDF5\n",
    "from rolf.tools.toml_reader import ReadConfig\n",
    "from rolf.training.training import TrainModule, train_model"
   ]
  },
  {
   "cell_type": "code",
   "execution_count": 2,
   "id": "b39d96ff-0a53-4a4e-af34-c05228c1673c",
   "metadata": {},
   "outputs": [],
   "source": [
    "os.environ[\"CUDA_VISIBLE_DEVICES\"] = \"1\""
   ]
  },
  {
   "cell_type": "code",
   "execution_count": 3,
   "id": "1",
   "metadata": {},
   "outputs": [],
   "source": [
    "config = ReadConfig(\"../configs/resnet16.toml\")\n",
    "train_config = config.training()"
   ]
  },
  {
   "cell_type": "code",
   "execution_count": 4,
   "id": "2",
   "metadata": {},
   "outputs": [
    {
     "data": {
      "text/plain": [
       "{'paths': {'data': PosixPath('../data/galaxy_data/all'),\n",
       "  'model': PosixPath('../build/checkpoints')},\n",
       " 'model_name': 'ResNet',\n",
       " 'net_hyperparams': {'num_classes': 4,\n",
       "  'hidden_channels': [16, 32, 64, 128],\n",
       "  'block_groups': [4, 4, 4, 4],\n",
       "  'block_name': 'ResBlock',\n",
       "  'activation_name': 'mish'},\n",
       " 'optimizer': 'SGD',\n",
       " 'opt_hyperparams': {'lr': 0.1, 'momentum': 0.9, 'weight_decay': 0.0001},\n",
       " 'save_name': 'ResNet16',\n",
       " 'batch_size': 30,\n",
       " 'epochs': 20}"
      ]
     },
     "execution_count": 4,
     "metadata": {},
     "output_type": "execute_result"
    }
   ],
   "source": [
    "train_config"
   ]
  },
  {
   "cell_type": "code",
   "execution_count": 5,
   "id": "3",
   "metadata": {},
   "outputs": [
    {
     "data": {
      "application/vnd.jupyter.widget-view+json": {
       "model_id": "41938ca4fb5749aaa563da37d8a6ebcc",
       "version_major": 2,
       "version_minor": 0
      },
      "text/plain": [
       "Output()"
      ]
     },
     "metadata": {},
     "output_type": "display_data"
    },
    {
     "data": {
      "text/html": [
       "<pre style=\"white-space:pre;overflow-x:auto;line-height:normal;font-family:Menlo,'DejaVu Sans Mono',consolas,'Courier New',monospace\"></pre>\n"
      ],
      "text/plain": []
     },
     "metadata": {},
     "output_type": "display_data"
    },
    {
     "data": {
      "text/html": [
       "<pre style=\"white-space:pre;overflow-x:auto;line-height:normal;font-family:Menlo,'DejaVu Sans Mono',consolas,'Courier New',monospace\">\n",
       "</pre>\n"
      ],
      "text/plain": [
       "\n"
      ]
     },
     "metadata": {},
     "output_type": "display_data"
    }
   ],
   "source": [
    "data = ReadHDF5(\"../data/galaxy_data_h5.h5\")\n",
    "data.make_transformer()"
   ]
  },
  {
   "cell_type": "code",
   "execution_count": 6,
   "id": "4",
   "metadata": {},
   "outputs": [],
   "source": [
    "train_loader, val_loader, test_loader = data.create_data_loaders(\n",
    "    batch_size=train_config[\"batch_size\"], img_dir=train_config[\"paths\"][\"data\"]\n",
    ")"
   ]
  },
  {
   "cell_type": "code",
   "execution_count": 7,
   "id": "5",
   "metadata": {},
   "outputs": [
    {
     "name": "stderr",
     "output_type": "stream",
     "text": [
      "GPU available: True (cuda), used: True\n",
      "TPU available: False, using: 0 TPU cores\n",
      "HPU available: False, using: 0 HPUs\n",
      "Seed set to 42\n",
      "LOCAL_RANK: 0 - CUDA_VISIBLE_DEVICES: [1]\n",
      "\n",
      "  | Name        | Type             | Params | Mode  | In sizes         | Out sizes\n",
      "----------------------------------------------------------------------------------------\n",
      "0 | model       | ResNet           | 1.5 M  | train | [1, 1, 300, 300] | [1, 4]   \n",
      "1 | loss_module | CrossEntropyLoss | 0      | train | ?                | ?        \n",
      "----------------------------------------------------------------------------------------\n",
      "1.5 M     Trainable params\n",
      "0         Non-trainable params\n",
      "1.5 M     Total params\n",
      "5.942     Total estimated model params size (MB)\n"
     ]
    },
    {
     "data": {
      "application/vnd.jupyter.widget-view+json": {
       "model_id": "",
       "version_major": 2,
       "version_minor": 0
      },
      "text/plain": [
       "Sanity Checking: |                                                       | 0/? [00:00<?, ?it/s]"
      ]
     },
     "metadata": {},
     "output_type": "display_data"
    },
    {
     "data": {
      "application/vnd.jupyter.widget-view+json": {
       "model_id": "7f8c1ce406314b9badde8dff05f12d0e",
       "version_major": 2,
       "version_minor": 0
      },
      "text/plain": [
       "Training: |                                                              | 0/? [00:00<?, ?it/s]"
      ]
     },
     "metadata": {},
     "output_type": "display_data"
    },
    {
     "data": {
      "application/vnd.jupyter.widget-view+json": {
       "model_id": "",
       "version_major": 2,
       "version_minor": 0
      },
      "text/plain": [
       "Validation: |                                                            | 0/? [00:00<?, ?it/s]"
      ]
     },
     "metadata": {},
     "output_type": "display_data"
    },
    {
     "data": {
      "application/vnd.jupyter.widget-view+json": {
       "model_id": "",
       "version_major": 2,
       "version_minor": 0
      },
      "text/plain": [
       "Validation: |                                                            | 0/? [00:00<?, ?it/s]"
      ]
     },
     "metadata": {},
     "output_type": "display_data"
    },
    {
     "data": {
      "application/vnd.jupyter.widget-view+json": {
       "model_id": "",
       "version_major": 2,
       "version_minor": 0
      },
      "text/plain": [
       "Validation: |                                                            | 0/? [00:00<?, ?it/s]"
      ]
     },
     "metadata": {},
     "output_type": "display_data"
    },
    {
     "data": {
      "application/vnd.jupyter.widget-view+json": {
       "model_id": "",
       "version_major": 2,
       "version_minor": 0
      },
      "text/plain": [
       "Validation: |                                                            | 0/? [00:00<?, ?it/s]"
      ]
     },
     "metadata": {},
     "output_type": "display_data"
    },
    {
     "data": {
      "application/vnd.jupyter.widget-view+json": {
       "model_id": "",
       "version_major": 2,
       "version_minor": 0
      },
      "text/plain": [
       "Validation: |                                                            | 0/? [00:00<?, ?it/s]"
      ]
     },
     "metadata": {},
     "output_type": "display_data"
    },
    {
     "data": {
      "application/vnd.jupyter.widget-view+json": {
       "model_id": "",
       "version_major": 2,
       "version_minor": 0
      },
      "text/plain": [
       "Validation: |                                                            | 0/? [00:00<?, ?it/s]"
      ]
     },
     "metadata": {},
     "output_type": "display_data"
    },
    {
     "data": {
      "application/vnd.jupyter.widget-view+json": {
       "model_id": "",
       "version_major": 2,
       "version_minor": 0
      },
      "text/plain": [
       "Validation: |                                                            | 0/? [00:00<?, ?it/s]"
      ]
     },
     "metadata": {},
     "output_type": "display_data"
    },
    {
     "data": {
      "application/vnd.jupyter.widget-view+json": {
       "model_id": "",
       "version_major": 2,
       "version_minor": 0
      },
      "text/plain": [
       "Validation: |                                                            | 0/? [00:00<?, ?it/s]"
      ]
     },
     "metadata": {},
     "output_type": "display_data"
    },
    {
     "data": {
      "application/vnd.jupyter.widget-view+json": {
       "model_id": "",
       "version_major": 2,
       "version_minor": 0
      },
      "text/plain": [
       "Validation: |                                                            | 0/? [00:00<?, ?it/s]"
      ]
     },
     "metadata": {},
     "output_type": "display_data"
    },
    {
     "data": {
      "application/vnd.jupyter.widget-view+json": {
       "model_id": "",
       "version_major": 2,
       "version_minor": 0
      },
      "text/plain": [
       "Validation: |                                                            | 0/? [00:00<?, ?it/s]"
      ]
     },
     "metadata": {},
     "output_type": "display_data"
    },
    {
     "data": {
      "application/vnd.jupyter.widget-view+json": {
       "model_id": "",
       "version_major": 2,
       "version_minor": 0
      },
      "text/plain": [
       "Validation: |                                                            | 0/? [00:00<?, ?it/s]"
      ]
     },
     "metadata": {},
     "output_type": "display_data"
    },
    {
     "data": {
      "application/vnd.jupyter.widget-view+json": {
       "model_id": "",
       "version_major": 2,
       "version_minor": 0
      },
      "text/plain": [
       "Validation: |                                                            | 0/? [00:00<?, ?it/s]"
      ]
     },
     "metadata": {},
     "output_type": "display_data"
    },
    {
     "data": {
      "application/vnd.jupyter.widget-view+json": {
       "model_id": "",
       "version_major": 2,
       "version_minor": 0
      },
      "text/plain": [
       "Validation: |                                                            | 0/? [00:00<?, ?it/s]"
      ]
     },
     "metadata": {},
     "output_type": "display_data"
    },
    {
     "data": {
      "application/vnd.jupyter.widget-view+json": {
       "model_id": "",
       "version_major": 2,
       "version_minor": 0
      },
      "text/plain": [
       "Validation: |                                                            | 0/? [00:00<?, ?it/s]"
      ]
     },
     "metadata": {},
     "output_type": "display_data"
    },
    {
     "data": {
      "application/vnd.jupyter.widget-view+json": {
       "model_id": "",
       "version_major": 2,
       "version_minor": 0
      },
      "text/plain": [
       "Validation: |                                                            | 0/? [00:00<?, ?it/s]"
      ]
     },
     "metadata": {},
     "output_type": "display_data"
    },
    {
     "data": {
      "application/vnd.jupyter.widget-view+json": {
       "model_id": "",
       "version_major": 2,
       "version_minor": 0
      },
      "text/plain": [
       "Validation: |                                                            | 0/? [00:00<?, ?it/s]"
      ]
     },
     "metadata": {},
     "output_type": "display_data"
    },
    {
     "data": {
      "application/vnd.jupyter.widget-view+json": {
       "model_id": "",
       "version_major": 2,
       "version_minor": 0
      },
      "text/plain": [
       "Validation: |                                                            | 0/? [00:00<?, ?it/s]"
      ]
     },
     "metadata": {},
     "output_type": "display_data"
    },
    {
     "data": {
      "application/vnd.jupyter.widget-view+json": {
       "model_id": "",
       "version_major": 2,
       "version_minor": 0
      },
      "text/plain": [
       "Validation: |                                                            | 0/? [00:00<?, ?it/s]"
      ]
     },
     "metadata": {},
     "output_type": "display_data"
    },
    {
     "data": {
      "application/vnd.jupyter.widget-view+json": {
       "model_id": "",
       "version_major": 2,
       "version_minor": 0
      },
      "text/plain": [
       "Validation: |                                                            | 0/? [00:00<?, ?it/s]"
      ]
     },
     "metadata": {},
     "output_type": "display_data"
    },
    {
     "data": {
      "application/vnd.jupyter.widget-view+json": {
       "model_id": "",
       "version_major": 2,
       "version_minor": 0
      },
      "text/plain": [
       "Validation: |                                                            | 0/? [00:00<?, ?it/s]"
      ]
     },
     "metadata": {},
     "output_type": "display_data"
    },
    {
     "name": "stderr",
     "output_type": "stream",
     "text": [
      "`Trainer.fit` stopped: `max_epochs=20` reached.\n",
      "/scratch/carauner/envs/radio_ml/lib/python3.11/site-packages/lightning/fabric/utilities/cloud_io.py:57: You are using `torch.load` with `weights_only=False` (the current default value), which uses the default pickle module implicitly. It is possible to construct malicious pickle data which will execute arbitrary code during unpickling (See https://github.com/pytorch/pytorch/blob/main/SECURITY.md#untrusted-models for more details). In a future release, the default value for `weights_only` will be flipped to `True`. This limits the functions that could be executed during unpickling. Arbitrary objects will no longer be allowed to be loaded via this mode unless they are explicitly allowlisted by the user via `torch.serialization.add_safe_globals`. We recommend you start setting `weights_only=True` for any use case where you don't have full control of the loaded file. Please open an issue on GitHub for any issues related to this experimental feature.\n",
      "LOCAL_RANK: 0 - CUDA_VISIBLE_DEVICES: [1]\n"
     ]
    },
    {
     "data": {
      "application/vnd.jupyter.widget-view+json": {
       "model_id": "fd445b744bd646648c91c62f93584111",
       "version_major": 2,
       "version_minor": 0
      },
      "text/plain": [
       "Testing: |                                                               | 0/? [00:00<?, ?it/s]"
      ]
     },
     "metadata": {},
     "output_type": "display_data"
    },
    {
     "name": "stderr",
     "output_type": "stream",
     "text": [
      "LOCAL_RANK: 0 - CUDA_VISIBLE_DEVICES: [1]\n"
     ]
    },
    {
     "data": {
      "application/vnd.jupyter.widget-view+json": {
       "model_id": "597e540c4fa54d128c9ecdca03329353",
       "version_major": 2,
       "version_minor": 0
      },
      "text/plain": [
       "Testing: |                                                               | 0/? [00:00<?, ?it/s]"
      ]
     },
     "metadata": {},
     "output_type": "display_data"
    }
   ],
   "source": [
    "model, result, trainer = train_model(\n",
    "    train_config[\"model_name\"],\n",
    "    train_loader,\n",
    "    val_loader,\n",
    "    test_loader,\n",
    "    checkpoint_path=train_config[\"paths\"][\"model\"],\n",
    "    epochs=train_config[\"epochs\"],\n",
    "    save_name=train_config[\"save_name\"],\n",
    "    model_hparams=train_config[\"net_hyperparams\"],\n",
    "    optimizer_name=train_config[\"optimizer\"],\n",
    "    optimizer_hparams=train_config[\"opt_hyperparams\"],\n",
    ")"
   ]
  },
  {
   "cell_type": "code",
   "execution_count": 8,
   "id": "6",
   "metadata": {},
   "outputs": [
    {
     "data": {
      "text/plain": [
       "{'test': 0.5349999666213989, 'val': 0.5299999713897705}"
      ]
     },
     "execution_count": 8,
     "metadata": {},
     "output_type": "execute_result"
    }
   ],
   "source": [
    "result"
   ]
  },
  {
   "cell_type": "code",
   "execution_count": 9,
   "id": "7",
   "metadata": {},
   "outputs": [],
   "source": [
    "device = \"cuda\" if torch.cuda.is_available() else \"cpu\"\n",
    "\n",
    "test_img = list(iter(test_loader))"
   ]
  },
  {
   "cell_type": "code",
   "execution_count": 18,
   "id": "154de31b-fc95-47cf-8275-50c64d8f590d",
   "metadata": {},
   "outputs": [],
   "source": [
    "pred = [model(test_img[i][0]) for i in range(len(test_img))]"
   ]
  },
  {
   "cell_type": "code",
   "execution_count": 11,
   "id": "8",
   "metadata": {},
   "outputs": [],
   "source": [
    "with torch.no_grad():\n",
    "    preds = np.argmax(pred.to(\"cpu\"), axis=1)"
   ]
  },
  {
   "cell_type": "code",
   "execution_count": 26,
   "id": "9",
   "metadata": {},
   "outputs": [],
   "source": [
    "liste = [test_img[i][1] == preds[i] for i in range(len(test_img))]"
   ]
  },
  {
   "cell_type": "code",
   "execution_count": 32,
   "id": "59cd22da-c823-4020-9dab-e8232e190638",
   "metadata": {},
   "outputs": [
    {
     "data": {
      "text/plain": [
       "30"
      ]
     },
     "execution_count": 32,
     "metadata": {},
     "output_type": "execute_result"
    }
   ],
   "source": [
    "liste[0].shape[0]"
   ]
  },
  {
   "cell_type": "code",
   "execution_count": 39,
   "id": "1c208c89-88f8-4966-87a0-ccedd52533fc",
   "metadata": {},
   "outputs": [
    {
     "data": {
      "text/plain": [
       "tensor(10)"
      ]
     },
     "execution_count": 39,
     "metadata": {},
     "output_type": "execute_result"
    }
   ],
   "source": [
    "liste[0].sum()"
   ]
  },
  {
   "cell_type": "code",
   "execution_count": 45,
   "id": "d787ce59-4f0a-40c2-b45e-c649d54896d6",
   "metadata": {},
   "outputs": [],
   "source": [
    "sums, lens = [], []\n",
    "for i in range(len(liste)):\n",
    "    sums.append(liste[i].sum())\n",
    "    lens.append(liste[i].shape[0])"
   ]
  },
  {
   "cell_type": "code",
   "execution_count": 47,
   "id": "77b3b057-1412-45ca-8593-dc47f59a0927",
   "metadata": {},
   "outputs": [
    {
     "data": {
      "text/plain": [
       "0.36"
      ]
     },
     "execution_count": 47,
     "metadata": {},
     "output_type": "execute_result"
    }
   ],
   "source": [
    "np.sum(sums) / np.sum(lens)"
   ]
  },
  {
   "cell_type": "code",
   "execution_count": 13,
   "id": "10",
   "metadata": {},
   "outputs": [
    {
     "data": {
      "text/plain": [
       "[tensor([[[[-0.0354, -0.0354, -0.0354,  ..., -0.0354, -0.0354, -0.0354],\n",
       "           [-0.0354, -0.0354, -0.0354,  ..., -0.0354, -0.0354, -0.0354],\n",
       "           [-0.0354, -0.0354, -0.0354,  ..., -0.0354, -0.0354, -0.0354],\n",
       "           ...,\n",
       "           [-0.0354, -0.0354, -0.0354,  ..., -0.0354, -0.0354, -0.0354],\n",
       "           [-0.0354, -0.0354, -0.0354,  ..., -0.0354, -0.0354, -0.0354],\n",
       "           [-0.0354, -0.0354, -0.0354,  ..., -0.0354, -0.0354, -0.0354]]],\n",
       " \n",
       " \n",
       "         [[[-0.0354, -0.0354, -0.0354,  ..., -0.0354, -0.0354, -0.0354],\n",
       "           [-0.0354, -0.0354, -0.0354,  ..., -0.0354, -0.0354, -0.0354],\n",
       "           [-0.0354, -0.0354, -0.0354,  ..., -0.0354, -0.0354, -0.0354],\n",
       "           ...,\n",
       "           [-0.0354, -0.0354, -0.0354,  ..., -0.0354, -0.0354, -0.0354],\n",
       "           [-0.0354, -0.0354, -0.0354,  ..., -0.0354, -0.0354, -0.0354],\n",
       "           [-0.0354, -0.0354, -0.0354,  ..., -0.0354, -0.0354, -0.0354]]],\n",
       " \n",
       " \n",
       "         [[[-0.0354, -0.0354, -0.0354,  ..., -0.0354, -0.0354, -0.0354],\n",
       "           [-0.0354, -0.0354, -0.0354,  ..., -0.0354, -0.0354, -0.0354],\n",
       "           [-0.0354, -0.0354, -0.0354,  ..., -0.0354, -0.0354, -0.0354],\n",
       "           ...,\n",
       "           [-0.0354, -0.0354, -0.0354,  ..., -0.0354, -0.0354, -0.0354],\n",
       "           [-0.0354, -0.0354, -0.0354,  ..., -0.0354, -0.0354, -0.0354],\n",
       "           [-0.0354, -0.0354, -0.0354,  ..., -0.0354, -0.0354, -0.0354]]],\n",
       " \n",
       " \n",
       "         ...,\n",
       " \n",
       " \n",
       "         [[[-0.0354, -0.0354, -0.0354,  ..., -0.0354, -0.0354, -0.0354],\n",
       "           [-0.0354, -0.0354, -0.0354,  ..., -0.0354, -0.0354, -0.0354],\n",
       "           [-0.0354, -0.0354, -0.0354,  ..., -0.0354, -0.0354, -0.0354],\n",
       "           ...,\n",
       "           [-0.0354, -0.0354, -0.0354,  ..., -0.0354, -0.0354, -0.0354],\n",
       "           [-0.0354, -0.0354, -0.0354,  ..., -0.0354, -0.0354, -0.0354],\n",
       "           [-0.0354, -0.0354, -0.0354,  ..., -0.0354, -0.0354, -0.0354]]],\n",
       " \n",
       " \n",
       "         [[[-0.0354, -0.0354, -0.0354,  ..., -0.0354, -0.0354, -0.0354],\n",
       "           [-0.0354, -0.0354, -0.0354,  ..., -0.0354, -0.0354, -0.0354],\n",
       "           [-0.0354, -0.0354, -0.0354,  ..., -0.0354, -0.0354, -0.0354],\n",
       "           ...,\n",
       "           [-0.0354, -0.0354, -0.0354,  ..., -0.0354, -0.0354, -0.0354],\n",
       "           [-0.0354, -0.0354, -0.0354,  ..., -0.0354, -0.0354, -0.0354],\n",
       "           [-0.0354, -0.0354, -0.0354,  ..., -0.0354, -0.0354, -0.0354]]],\n",
       " \n",
       " \n",
       "         [[[-0.0354, -0.0354, -0.0354,  ..., -0.0354, -0.0354, -0.0354],\n",
       "           [-0.0354, -0.0354, -0.0354,  ..., -0.0354, -0.0354, -0.0354],\n",
       "           [-0.0354, -0.0354, -0.0354,  ..., -0.0354, -0.0354, -0.0354],\n",
       "           ...,\n",
       "           [-0.0354, -0.0354, -0.0354,  ..., -0.0354, -0.0354, -0.0354],\n",
       "           [-0.0354, -0.0354, -0.0354,  ..., -0.0354, -0.0354, -0.0354],\n",
       "           [-0.0354, -0.0354, -0.0354,  ..., -0.0354, -0.0354, -0.0354]]]]),\n",
       " tensor([0, 0, 0, 1, 0, 1, 0, 1, 0, 1, 0, 0, 1, 0, 2, 2, 2, 2, 2, 2, 2, 2, 2, 2,\n",
       "         2, 0, 2, 2, 2, 2])]"
      ]
     },
     "execution_count": 13,
     "metadata": {},
     "output_type": "execute_result"
    }
   ],
   "source": [
    "test_img[0]"
   ]
  },
  {
   "cell_type": "code",
   "execution_count": 14,
   "id": "11",
   "metadata": {},
   "outputs": [
    {
     "name": "stdout",
     "output_type": "stream",
     "text": [
      "tensor([[-0.0354, -0.0354, -0.0354,  ..., -0.0354, -0.0354, -0.0354],\n",
      "        [-0.0354, -0.0354, -0.0354,  ..., -0.0354, -0.0354, -0.0354],\n",
      "        [-0.0354, -0.0354, -0.0354,  ..., -0.0354, -0.0354, -0.0354],\n",
      "        ...,\n",
      "        [-0.0354, -0.0354, -0.0354,  ..., -0.0354, -0.0354, -0.0354],\n",
      "        [-0.0354, -0.0354, -0.0354,  ..., -0.0354, -0.0354, -0.0354],\n",
      "        [-0.0354, -0.0354, -0.0354,  ..., -0.0354, -0.0354, -0.0354]])\n",
      "tensor([[-0.0354, -0.0354, -0.0354,  ..., -0.0354, -0.0354, -0.0354],\n",
      "        [-0.0354, -0.0354, -0.0354,  ..., -0.0354, -0.0354, -0.0354],\n",
      "        [-0.0354, -0.0354, -0.0354,  ..., -0.0354, -0.0354, -0.0354],\n",
      "        ...,\n",
      "        [-0.0354, -0.0354, -0.0354,  ..., -0.0354, -0.0354, -0.0354],\n",
      "        [-0.0354, -0.0354, -0.0354,  ..., -0.0354, -0.0354, -0.0354],\n",
      "        [-0.0354, -0.0354, -0.0354,  ..., -0.0354, -0.0354, -0.0354]])\n"
     ]
    }
   ],
   "source": [
    "for im in test_img[0][0][:2]:\n",
    "    print(im.squeeze())"
   ]
  },
  {
   "cell_type": "code",
   "execution_count": 15,
   "id": "12",
   "metadata": {},
   "outputs": [
    {
     "data": {
      "image/png": "[encoded data removed]",
      "text/plain": [
       "<Figure size 1600x1600 with 16 Axes>"
      ]
     },
     "metadata": {},
     "output_type": "display_data"
    }
   ],
   "source": [
    "labels_map = {\n",
    "    0: \"FRI\",\n",
    "    1: \"FRII\",\n",
    "    2: \"Compact\",\n",
    "    3: \"Bent\",\n",
    "}\n",
    "\n",
    "if len(test_img[0]) > 16:\n",
    "    images = test_img[0][0][:16]\n",
    "    labels = test_img[0][1][:16]\n",
    "    labels_pred = preds[:16]\n",
    "else:\n",
    "    images = test_img[0][0]\n",
    "    labels = test_img[0][1]\n",
    "    labels_pred = preds\n",
    "\n",
    "figure, axs = plt.subplots(4, 4, figsize=(16, 16))\n",
    "axs = axs.flatten()\n",
    "\n",
    "for ax, img, label, label_pred in zip(axs, images, labels, labels_pred):\n",
    "    img = img.squeeze()\n",
    "    label = label.item()\n",
    "    label_pred = label_pred.item()\n",
    "\n",
    "    correct = label_pred == label\n",
    "\n",
    "    ax.text(\n",
    "        0.05,\n",
    "        0.95,\n",
    "        f\"{labels_map[label]} (truth)\",\n",
    "        horizontalalignment=\"left\",\n",
    "        verticalalignment=\"top\",\n",
    "        transform=ax.transAxes,\n",
    "        color=\"white\",\n",
    "        fontsize=14,\n",
    "    )\n",
    "    ax.text(\n",
    "        0.05,\n",
    "        0.85,\n",
    "        labels_map[label_pred],\n",
    "        horizontalalignment=\"left\",\n",
    "        verticalalignment=\"top\",\n",
    "        transform=ax.transAxes,\n",
    "        color=\"green\" if correct else \"red\",\n",
    "        fontsize=14,\n",
    "    )\n",
    "    ax.axis(\"off\")\n",
    "    ax.imshow(img, cmap=\"inferno\")\n",
    "\n",
    "plt.show()"
   ]
  },
  {
   "cell_type": "code",
   "execution_count": null,
   "id": "13",
   "metadata": {},
   "outputs": [],
   "source": []
  }
 ],
 "metadata": {
  "kernelspec": {
   "display_name": "Python 3 (ipykernel)",
   "language": "python",
   "name": "python3"
  },
  "language_info": {
   "codemirror_mode": {
    "name": "ipython",
    "version": 3
   },
   "file_extension": ".py",
   "mimetype": "text/x-python",
   "name": "python",
   "nbconvert_exporter": "python",
   "pygments_lexer": "ipython3",
   "version": "3.11.9"
  }
 },
 "nbformat": 4,
 "nbformat_minor": 5
}
