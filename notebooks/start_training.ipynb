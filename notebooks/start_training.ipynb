{
 "cells": [
  {
   "cell_type": "code",
   "execution_count": 1,
   "id": "6c5ca76f-2503-4019-af6e-d2e85a197e1f",
   "metadata": {},
   "outputs": [],
   "source": [
    "import lightning as L\n",
    "import matplotlib.pyplot as plt\n",
    "import numpy as np\n",
    "import pandas as pd\n",
    "import torch\n",
    "from torchvision import transforms\n",
    "\n",
    "from rolf.io import CreateTorchDataset, read_hdf5\n",
    "from rolf.tools.toml_reader import ReadConfig\n",
    "from rolf.training.training import TrainModule, train_model"
   ]
  },
  {
   "cell_type": "code",
   "execution_count": 2,
   "id": "001e66a0-d02e-4a35-b85b-504b1b7d6606",
   "metadata": {
    "scrolled": true
   },
   "outputs": [],
   "source": [
    "config = ReadConfig(\"../configs/resnet18.toml\")\n",
    "train_config = config.training()"
   ]
  },
  {
   "cell_type": "code",
   "execution_count": 3,
   "id": "18f3ead6-268a-4b6b-94d9-b28111b80313",
   "metadata": {
    "scrolled": true
   },
   "outputs": [
    {
     "data": {
      "text/plain": [
       "{'paths': {'data': PosixPath('../data/galaxy_data/all'),\n",
       "  'model': PosixPath('../build/checkpoints')},\n",
       " 'mode': {'verbose': True, 'gpu': True},\n",
       " 'parameters': {'save_name': 'ResNet16_prelu_PreAct',\n",
       "  'batch_size': 20,\n",
       "  'epochs': 10,\n",
       "  'loss_func': 'mse'},\n",
       " 'model_name': 'ResNet',\n",
       " 'net_hyperparams': {'num_classes': 4,\n",
       "  'hidden_channels': [16, 32, 64, 128],\n",
       "  'block_groups': [4, 4, 4, 4],\n",
       "  'block_name': 'PreActBlock',\n",
       "  'activation_name': 'mish'},\n",
       " 'optimizer': 'SGD',\n",
       " 'opt_hyperparams': {'lr': 0.1, 'momentum': 0.9, 'weight_decay': 0.0001},\n",
       " 'save_name': 'ResNet16_prelu_PreAct',\n",
       " 'batch_size': 20,\n",
       " 'epochs': 10}"
      ]
     },
     "execution_count": 3,
     "metadata": {},
     "output_type": "execute_result"
    }
   ],
   "source": [
    "train_config"
   ]
  },
  {
   "cell_type": "code",
   "execution_count": 4,
   "id": "e96aa704-f274-426c-94ee-8cf7285e4f83",
   "metadata": {},
   "outputs": [
    {
     "name": "stdout",
     "output_type": "stream",
     "text": [
      "{'num_classes': 4, 'hidden_channels': [16, 32, 64, 128], 'block_groups': [4, 4, 4, 4], 'activation_name': 'mish', 'activation': <class 'torch.nn.modules.activation.Mish'>, 'block_type': <class 'rolf.architecture.blocks.PreActBlock'>}\n"
     ]
    }
   ],
   "source": [
    "tm = TrainModule(\n",
    "    model_name=train_config[\"model_name\"],\n",
    "    model_hparams=train_config[\"net_hyperparams\"],\n",
    "    optimizer_name=train_config[\"optimizer\"],\n",
    "    optimizer_hparams=train_config[\"opt_hyperparams\"],\n",
    ")"
   ]
  },
  {
   "cell_type": "code",
   "execution_count": 5,
   "id": "e55fa23e-147c-429f-bbed-a9867160ea9f",
   "metadata": {},
   "outputs": [],
   "source": [
    "data = read_hdf5(\"../data/galaxy_data_h5.h5\")"
   ]
  },
  {
   "cell_type": "code",
   "execution_count": 6,
   "id": "f8139944-9654-4f16-929c-a37d21140863",
   "metadata": {
    "scrolled": true
   },
   "outputs": [
    {
     "data": {
      "text/plain": [
       "<TableColumns names=('index','img','RA','DEC','source','filepath','label','split')>"
      ]
     },
     "execution_count": 6,
     "metadata": {},
     "output_type": "execute_result"
    }
   ],
   "source": [
    "data.columns"
   ]
  },
  {
   "cell_type": "code",
   "execution_count": 8,
   "id": "e671f015-c1d0-4960-9661-a8fb112c3609",
   "metadata": {},
   "outputs": [
    {
     "data": {
      "text/plain": [
       "(0.0004965368361328688, 0.014213577024571834)"
      ]
     },
     "execution_count": 8,
     "metadata": {},
     "output_type": "execute_result"
    }
   ],
   "source": [
    "data_mean = (data[\"img\"] / data[\"img\"].max()).mean(axis=(0, 1, 2))\n",
    "data_std = (data[\"img\"] / data[\"img\"].max()).std(axis=(0, 1, 2))\n",
    "\n",
    "data_mean, data_std"
   ]
  },
  {
   "cell_type": "code",
   "execution_count": 9,
   "id": "dc849f2f-2e06-45f9-89ee-0ecdaa23ea3e",
   "metadata": {},
   "outputs": [],
   "source": [
    "train_transform = transforms.Normalize(data_mean, data_std)"
   ]
  },
  {
   "cell_type": "code",
   "execution_count": 10,
   "id": "728c4808-d8c3-4628-a697-ae6e97fca776",
   "metadata": {},
   "outputs": [],
   "source": [
    "def _get_split(split):\n",
    "    temp = data[[\"filepath\", \"label\"]][data[\"split\"] == split]\n",
    "    df = pd.DataFrame({\"filepath\": temp[\"filepath\"], \"label\": temp[\"label\"]})\n",
    "    return df\n",
    "\n",
    "\n",
    "train = _get_split(\"train\")\n",
    "test = _get_split(\"test\")\n",
    "valid = _get_split(\"valid\")"
   ]
  },
  {
   "cell_type": "code",
   "execution_count": 11,
   "id": "7af1b19e-bc59-4264-852e-e13b03df8ebd",
   "metadata": {},
   "outputs": [],
   "source": [
    "img_dir = train_config[\"paths\"][\"data\"]\n",
    "\n",
    "train_set = CreateTorchDataset(\n",
    "    train[\"label\"].to_numpy(),\n",
    "    train[\"filepath\"].to_numpy(),\n",
    "    img_dir=img_dir,\n",
    ")\n",
    "test_set = CreateTorchDataset(\n",
    "    test[\"label\"].to_numpy(), test[\"filepath\"].to_numpy(), img_dir=img_dir\n",
    ")\n",
    "val_set = CreateTorchDataset(\n",
    "    valid[\"label\"].to_numpy(),\n",
    "    valid[\"filepath\"].to_numpy(),\n",
    "    img_dir=img_dir,\n",
    ")\n",
    "\n",
    "train = None\n",
    "test = None\n",
    "valid = None\n",
    "\n",
    "del train, test, valid"
   ]
  },
  {
   "cell_type": "code",
   "execution_count": 12,
   "id": "543c0607-6ba0-4e33-842c-ad81636bb9cf",
   "metadata": {},
   "outputs": [],
   "source": [
    "train_loader = torch.utils.data.DataLoader(\n",
    "    train_set,\n",
    "    batch_size=train_config[\"batch_size\"],\n",
    "    shuffle=True,\n",
    "    drop_last=True,\n",
    "    pin_memory=True,\n",
    "    num_workers=4,\n",
    ")\n",
    "val_loader = torch.utils.data.DataLoader(\n",
    "    val_set,\n",
    "    batch_size=train_config[\"batch_size\"],\n",
    "    shuffle=False,\n",
    "    drop_last=False,\n",
    "    num_workers=4,\n",
    ")\n",
    "test_loader = torch.utils.data.DataLoader(\n",
    "    test_set,\n",
    "    batch_size=train_config[\"batch_size\"],\n",
    "    shuffle=False,\n",
    "    drop_last=False,\n",
    "    num_workers=4,\n",
    ")"
   ]
  },
  {
   "cell_type": "code",
   "execution_count": 13,
   "id": "b8b2e5ab-d056-4f9c-8ef9-71114f5a2d5b",
   "metadata": {},
   "outputs": [
    {
     "name": "stderr",
     "output_type": "stream",
     "text": [
      "GPU available: True (cuda), used: True\n",
      "TPU available: False, using: 0 TPU cores\n",
      "HPU available: False, using: 0 HPUs\n",
      "Seed set to 42\n",
      "LOCAL_RANK: 0 - CUDA_VISIBLE_DEVICES: [0]\n"
     ]
    },
    {
     "name": "stdout",
     "output_type": "stream",
     "text": [
      "{'num_classes': 4, 'hidden_channels': [16, 32, 64, 128], 'block_groups': [4, 4, 4, 4], 'activation_name': 'mish', 'activation': <class 'torch.nn.modules.activation.Mish'>, 'block_type': <class 'rolf.architecture.blocks.PreActBlock'>}\n"
     ]
    },
    {
     "name": "stderr",
     "output_type": "stream",
     "text": [
      "\n",
      "  | Name        | Type             | Params | Mode  | In sizes         | Out sizes\n",
      "----------------------------------------------------------------------------------------\n",
      "0 | model       | ResNet           | 1.5 M  | train | [1, 1, 300, 300] | [1, 4]   \n",
      "1 | loss_module | CrossEntropyLoss | 0      | train | ?                | ?        \n",
      "----------------------------------------------------------------------------------------\n",
      "1.5 M     Trainable params\n",
      "0         Non-trainable params\n",
      "1.5 M     Total params\n",
      "5.941     Total estimated model params size (MB)\n"
     ]
    },
    {
     "data": {
      "application/vnd.jupyter.widget-view+json": {
       "model_id": "",
       "version_major": 2,
       "version_minor": 0
      },
      "text/plain": [
       "Sanity Checking: |                                                                                            …"
      ]
     },
     "metadata": {},
     "output_type": "display_data"
    },
    {
     "data": {
      "application/vnd.jupyter.widget-view+json": {
       "model_id": "36af599d396849509c4dc5120dbb8a43",
       "version_major": 2,
       "version_minor": 0
      },
      "text/plain": [
       "Training: |                                                                                                   …"
      ]
     },
     "metadata": {},
     "output_type": "display_data"
    },
    {
     "data": {
      "application/vnd.jupyter.widget-view+json": {
       "model_id": "",
       "version_major": 2,
       "version_minor": 0
      },
      "text/plain": [
       "Validation: |                                                                                                 …"
      ]
     },
     "metadata": {},
     "output_type": "display_data"
    },
    {
     "data": {
      "application/vnd.jupyter.widget-view+json": {
       "model_id": "",
       "version_major": 2,
       "version_minor": 0
      },
      "text/plain": [
       "Validation: |                                                                                                 …"
      ]
     },
     "metadata": {},
     "output_type": "display_data"
    },
    {
     "data": {
      "application/vnd.jupyter.widget-view+json": {
       "model_id": "",
       "version_major": 2,
       "version_minor": 0
      },
      "text/plain": [
       "Validation: |                                                                                                 …"
      ]
     },
     "metadata": {},
     "output_type": "display_data"
    },
    {
     "data": {
      "application/vnd.jupyter.widget-view+json": {
       "model_id": "",
       "version_major": 2,
       "version_minor": 0
      },
      "text/plain": [
       "Validation: |                                                                                                 …"
      ]
     },
     "metadata": {},
     "output_type": "display_data"
    },
    {
     "data": {
      "application/vnd.jupyter.widget-view+json": {
       "model_id": "",
       "version_major": 2,
       "version_minor": 0
      },
      "text/plain": [
       "Validation: |                                                                                                 …"
      ]
     },
     "metadata": {},
     "output_type": "display_data"
    },
    {
     "data": {
      "application/vnd.jupyter.widget-view+json": {
       "model_id": "",
       "version_major": 2,
       "version_minor": 0
      },
      "text/plain": [
       "Validation: |                                                                                                 …"
      ]
     },
     "metadata": {},
     "output_type": "display_data"
    },
    {
     "data": {
      "application/vnd.jupyter.widget-view+json": {
       "model_id": "",
       "version_major": 2,
       "version_minor": 0
      },
      "text/plain": [
       "Validation: |                                                                                                 …"
      ]
     },
     "metadata": {},
     "output_type": "display_data"
    },
    {
     "data": {
      "application/vnd.jupyter.widget-view+json": {
       "model_id": "",
       "version_major": 2,
       "version_minor": 0
      },
      "text/plain": [
       "Validation: |                                                                                                 …"
      ]
     },
     "metadata": {},
     "output_type": "display_data"
    },
    {
     "data": {
      "application/vnd.jupyter.widget-view+json": {
       "model_id": "",
       "version_major": 2,
       "version_minor": 0
      },
      "text/plain": [
       "Validation: |                                                                                                 …"
      ]
     },
     "metadata": {},
     "output_type": "display_data"
    },
    {
     "data": {
      "application/vnd.jupyter.widget-view+json": {
       "model_id": "",
       "version_major": 2,
       "version_minor": 0
      },
      "text/plain": [
       "Validation: |                                                                                                 …"
      ]
     },
     "metadata": {},
     "output_type": "display_data"
    },
    {
     "name": "stderr",
     "output_type": "stream",
     "text": [
      "`Trainer.fit` stopped: `max_epochs=10` reached.\n",
      "LOCAL_RANK: 0 - CUDA_VISIBLE_DEVICES: [0]\n"
     ]
    },
    {
     "name": "stdout",
     "output_type": "stream",
     "text": [
      "{'num_classes': 4, 'hidden_channels': [16, 32, 64, 128], 'block_groups': [4, 4, 4, 4], 'activation_name': 'mish', 'activation': <class 'torch.nn.modules.activation.Mish'>, 'block_type': <class 'rolf.architecture.blocks.PreActBlock'>}\n"
     ]
    },
    {
     "data": {
      "application/vnd.jupyter.widget-view+json": {
       "model_id": "333b1b142b374cfbb32f328f2928a26b",
       "version_major": 2,
       "version_minor": 0
      },
      "text/plain": [
       "Testing: |                                                                                                    …"
      ]
     },
     "metadata": {},
     "output_type": "display_data"
    },
    {
     "name": "stderr",
     "output_type": "stream",
     "text": [
      "LOCAL_RANK: 0 - CUDA_VISIBLE_DEVICES: [0]\n"
     ]
    },
    {
     "data": {
      "application/vnd.jupyter.widget-view+json": {
       "model_id": "9440cc5ff247444b90d651c413f35cf6",
       "version_major": 2,
       "version_minor": 0
      },
      "text/plain": [
       "Testing: |                                                                                                    …"
      ]
     },
     "metadata": {},
     "output_type": "display_data"
    }
   ],
   "source": [
    "model, result, trainer = train_model(\n",
    "    train_config[\"model_name\"],\n",
    "    train_loader,\n",
    "    val_loader,\n",
    "    test_loader,\n",
    "    checkpoint_path=train_config[\"paths\"][\"model\"],\n",
    "    epochs=train_config[\"epochs\"],\n",
    "    save_name=train_config[\"save_name\"],\n",
    "    model_hparams=train_config[\"net_hyperparams\"],\n",
    "    optimizer_name=train_config[\"optimizer\"],\n",
    "    optimizer_hparams=train_config[\"opt_hyperparams\"],\n",
    ")"
   ]
  },
  {
   "cell_type": "code",
   "execution_count": 14,
   "id": "f8fbd7cb-8827-4027-971e-4bec7de590e4",
   "metadata": {},
   "outputs": [
    {
     "data": {
      "text/plain": [
       "{'test': 0.5299999713897705, 'val': 0.5400000214576721}"
      ]
     },
     "execution_count": 14,
     "metadata": {},
     "output_type": "execute_result"
    }
   ],
   "source": [
    "result"
   ]
  },
  {
   "cell_type": "code",
   "execution_count": 13,
   "id": "9b5bf308-f5e4-4cae-8ec6-20b60413ac4f",
   "metadata": {},
   "outputs": [],
   "source": [
    "device = \"cuda\" if torch.cuda.is_available() else \"cpu\"\n",
    "\n",
    "test_img = list(iter(test_loader))"
   ]
  },
  {
   "cell_type": "code",
   "execution_count": 15,
   "id": "d308d161-742a-4f4e-b5b5-bdb26cb04cfa",
   "metadata": {},
   "outputs": [
    {
     "name": "stdout",
     "output_type": "stream",
     "text": [
      "{'num_classes': 4, 'hidden_channels': [16, 32, 64, 128], 'block_groups': [4, 4, 4, 4], 'activation_name': 'mish', 'activation': <class 'torch.nn.modules.activation.Mish'>, 'block_type': <class 'rolf.architecture.blocks.PreActBlock'>}\n"
     ]
    }
   ],
   "source": [
    "model = TrainModule.load_from_checkpoint(\n",
    "    \"../build/checkpoints/ResNet16_prelu_PreAct/lightning_logs/version_2/checkpoints/epoch=112-step=9831.ckpt\"\n",
    ")\n",
    "pred = model(test_img[0][0].to(device))"
   ]
  },
  {
   "cell_type": "code",
   "execution_count": 16,
   "id": "5fdc15b4-537e-413b-8552-9bc8fc21779b",
   "metadata": {},
   "outputs": [],
   "source": [
    "with torch.no_grad():\n",
    "    preds = np.argmax(pred.to(\"cpu\"), axis=1)"
   ]
  },
  {
   "cell_type": "code",
   "execution_count": 17,
   "id": "53b608e1-e52e-44a5-b0e7-e7a7cfdd9b26",
   "metadata": {},
   "outputs": [
    {
     "data": {
      "text/plain": [
       "tensor(0.7500)"
      ]
     },
     "execution_count": 17,
     "metadata": {},
     "output_type": "execute_result"
    }
   ],
   "source": [
    "(test_img[0][1] == preds).sum() / len(preds)"
   ]
  },
  {
   "cell_type": "code",
   "execution_count": 18,
   "id": "fd319ade-e854-477a-b7ba-2880eb29ce26",
   "metadata": {
    "scrolled": true
   },
   "outputs": [
    {
     "data": {
      "text/plain": [
       "[tensor([[[[0., 0., 0.,  ..., 0., 0., 0.],\n",
       "           [0., 0., 0.,  ..., 0., 0., 0.],\n",
       "           [0., 0., 0.,  ..., 0., 0., 0.],\n",
       "           ...,\n",
       "           [0., 0., 0.,  ..., 0., 0., 0.],\n",
       "           [0., 0., 0.,  ..., 0., 0., 0.],\n",
       "           [0., 0., 0.,  ..., 0., 0., 0.]]],\n",
       " \n",
       " \n",
       "         [[[0., 0., 0.,  ..., 0., 0., 0.],\n",
       "           [0., 0., 0.,  ..., 0., 0., 0.],\n",
       "           [0., 0., 0.,  ..., 0., 0., 0.],\n",
       "           ...,\n",
       "           [0., 0., 0.,  ..., 0., 0., 0.],\n",
       "           [0., 0., 0.,  ..., 0., 0., 0.],\n",
       "           [0., 0., 0.,  ..., 0., 0., 0.]]],\n",
       " \n",
       " \n",
       "         [[[0., 0., 0.,  ..., 0., 0., 0.],\n",
       "           [0., 0., 0.,  ..., 0., 0., 0.],\n",
       "           [0., 0., 0.,  ..., 0., 0., 0.],\n",
       "           ...,\n",
       "           [0., 0., 0.,  ..., 0., 0., 0.],\n",
       "           [0., 0., 0.,  ..., 0., 0., 0.],\n",
       "           [0., 0., 0.,  ..., 0., 0., 0.]]],\n",
       " \n",
       " \n",
       "         ...,\n",
       " \n",
       " \n",
       "         [[[0., 0., 0.,  ..., 0., 0., 0.],\n",
       "           [0., 0., 0.,  ..., 0., 0., 0.],\n",
       "           [0., 0., 0.,  ..., 0., 0., 0.],\n",
       "           ...,\n",
       "           [0., 0., 0.,  ..., 0., 0., 0.],\n",
       "           [0., 0., 0.,  ..., 0., 0., 0.],\n",
       "           [0., 0., 0.,  ..., 0., 0., 0.]]],\n",
       " \n",
       " \n",
       "         [[[0., 0., 0.,  ..., 0., 0., 0.],\n",
       "           [0., 0., 0.,  ..., 0., 0., 0.],\n",
       "           [0., 0., 0.,  ..., 0., 0., 0.],\n",
       "           ...,\n",
       "           [0., 0., 0.,  ..., 0., 0., 0.],\n",
       "           [0., 0., 0.,  ..., 0., 0., 0.],\n",
       "           [0., 0., 0.,  ..., 0., 0., 0.]]],\n",
       " \n",
       " \n",
       "         [[[0., 0., 0.,  ..., 0., 0., 0.],\n",
       "           [0., 0., 0.,  ..., 0., 0., 0.],\n",
       "           [0., 0., 0.,  ..., 0., 0., 0.],\n",
       "           ...,\n",
       "           [0., 0., 0.,  ..., 0., 0., 0.],\n",
       "           [0., 0., 0.,  ..., 0., 0., 0.],\n",
       "           [0., 0., 0.,  ..., 0., 0., 0.]]]]),\n",
       " tensor([0, 0, 0, 1, 0, 1, 0, 1, 0, 1, 0, 0, 1, 0, 2, 2, 2, 2, 2, 2])]"
      ]
     },
     "execution_count": 18,
     "metadata": {},
     "output_type": "execute_result"
    }
   ],
   "source": [
    "test_img[0]"
   ]
  },
  {
   "cell_type": "code",
   "execution_count": 40,
   "id": "665c61a2-b336-4452-8bba-f549ac578583",
   "metadata": {},
   "outputs": [
    {
     "name": "stdout",
     "output_type": "stream",
     "text": [
      "tensor([[0., 0., 0.,  ..., 0., 0., 0.],\n",
      "        [0., 0., 0.,  ..., 0., 0., 0.],\n",
      "        [0., 0., 0.,  ..., 0., 0., 0.],\n",
      "        ...,\n",
      "        [0., 0., 0.,  ..., 0., 0., 0.],\n",
      "        [0., 0., 0.,  ..., 0., 0., 0.],\n",
      "        [0., 0., 0.,  ..., 0., 0., 0.]])\n",
      "tensor([[0., 0., 0.,  ..., 0., 0., 0.],\n",
      "        [0., 0., 0.,  ..., 0., 0., 0.],\n",
      "        [0., 0., 0.,  ..., 0., 0., 0.],\n",
      "        ...,\n",
      "        [0., 0., 0.,  ..., 0., 0., 0.],\n",
      "        [0., 0., 0.,  ..., 0., 0., 0.],\n",
      "        [0., 0., 0.,  ..., 0., 0., 0.]])\n"
     ]
    }
   ],
   "source": [
    "for im in test_img[0][0][:2]:\n",
    "    print(im.squeeze())"
   ]
  },
  {
   "cell_type": "code",
   "execution_count": 60,
   "id": "6aaf357b-b038-44f6-8a19-56181150cd92",
   "metadata": {},
   "outputs": [
    {
     "data": {
      "image/png": "[encoded data removed]",
      "text/plain": [
       "<Figure size 1600x1600 with 16 Axes>"
      ]
     },
     "metadata": {},
     "output_type": "display_data"
    }
   ],
   "source": [
    "labels_map = {\n",
    "    0: \"FRI\",\n",
    "    1: \"FRII\",\n",
    "    2: \"Compact\",\n",
    "    3: \"Bent\",\n",
    "}\n",
    "\n",
    "if len(test_img[0]) > 16:\n",
    "    images = test_img[0][0][:16]\n",
    "    labels = test_img[0][1][:16]\n",
    "    labels_pred = preds[:16]\n",
    "else:\n",
    "    images = test_img[0][0]\n",
    "    labels = test_img[0][1]\n",
    "    labels_pred = preds\n",
    "\n",
    "figure, axs = plt.subplots(4, 4, figsize=(16, 16))\n",
    "axs = axs.flatten()\n",
    "\n",
    "for ax, img, label, label_pred in zip(axs, images, labels, labels_pred):\n",
    "    img = img.squeeze()\n",
    "    label = label.item()\n",
    "    label_pred = label_pred.item()\n",
    "\n",
    "    correct = label_pred == label\n",
    "\n",
    "    ax.text(\n",
    "        0.05,\n",
    "        0.95,\n",
    "        f\"{labels_map[label]} (truth)\",\n",
    "        horizontalalignment=\"left\",\n",
    "        verticalalignment=\"top\",\n",
    "        transform=ax.transAxes,\n",
    "        color=\"white\",\n",
    "        fontsize=14,\n",
    "    )\n",
    "    ax.text(\n",
    "        0.05,\n",
    "        0.85,\n",
    "        labels_map[label_pred],\n",
    "        horizontalalignment=\"left\",\n",
    "        verticalalignment=\"top\",\n",
    "        transform=ax.transAxes,\n",
    "        color=\"green\" if correct else \"red\",\n",
    "        fontsize=14,\n",
    "    )\n",
    "    ax.axis(\"off\")\n",
    "    ax.imshow(img, cmap=\"inferno\")\n",
    "\n",
    "plt.show()"
   ]
  },
  {
   "cell_type": "code",
   "execution_count": null,
   "id": "77e4773f-95ce-447a-a559-429893184bf3",
   "metadata": {},
   "outputs": [],
   "source": []
  }
 ],
 "metadata": {
  "kernelspec": {
   "display_name": "Python 3 (ipykernel)",
   "language": "python",
   "name": "python3"
  },
  "language_info": {
   "codemirror_mode": {
    "name": "ipython",
    "version": 3
   },
   "file_extension": ".py",
   "mimetype": "text/x-python",
   "name": "python",
   "nbconvert_exporter": "python",
   "pygments_lexer": "ipython3",
   "version": "3.11.9"
  }
 },
 "nbformat": 4,
 "nbformat_minor": 5
}
