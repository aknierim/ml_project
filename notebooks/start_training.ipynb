{
 "cells": [
  {
   "cell_type": "code",
   "execution_count": null,
   "id": "0",
   "metadata": {},
   "outputs": [],
   "source": [
    "import lightning as L\n",
    "import matplotlib.pyplot as plt\n",
    "import numpy as np\n",
    "import pandas as pd\n",
    "import torch\n",
    "from torchvision import transforms\n",
    "\n",
    "from rolf.io import CreateTorchDataset, read_hdf5\n",
    "from rolf.tools.toml_reader import ReadConfig\n",
    "from rolf.training.training import TrainModule, train_model"
   ]
  },
  {
   "cell_type": "code",
   "execution_count": null,
   "id": "1",
   "metadata": {},
   "outputs": [],
   "source": [
    "config = ReadConfig(\"../configs/resnet18.toml\")\n",
    "train_config = config.training()"
   ]
  },
  {
   "cell_type": "code",
   "execution_count": null,
   "id": "2",
   "metadata": {},
   "outputs": [],
   "source": [
    "train_config"
   ]
  },
  {
   "cell_type": "code",
   "execution_count": null,
   "id": "3",
   "metadata": {},
   "outputs": [],
   "source": [
    "tm = TrainModule(\n",
    "    model_name=train_config[\"model_name\"],\n",
    "    model_hparams=train_config[\"net_hyperparams\"],\n",
    "    optimizer_name=train_config[\"optimizer\"],\n",
    "    optimizer_hparams=train_config[\"opt_hyperparams\"],\n",
    ")"
   ]
  },
  {
   "cell_type": "code",
   "execution_count": null,
   "id": "4",
   "metadata": {},
   "outputs": [],
   "source": [
    "data = read_hdf5(\"../data/galaxy_data_h5.h5\")"
   ]
  },
  {
   "cell_type": "code",
   "execution_count": null,
   "id": "5",
   "metadata": {},
   "outputs": [],
   "source": [
    "data.columns"
   ]
  },
  {
   "cell_type": "code",
   "execution_count": null,
   "id": "6",
   "metadata": {},
   "outputs": [],
   "source": [
    "data_mean = (data[\"img\"] / data[\"img\"].max()).mean(axis=(0, 1, 2))\n",
    "data_std = (data[\"img\"] / data[\"img\"].max()).std(axis=(0, 1, 2))\n",
    "\n",
    "data_mean, data_std"
   ]
  },
  {
   "cell_type": "code",
   "execution_count": null,
   "id": "7",
   "metadata": {},
   "outputs": [],
   "source": [
    "train_transform = transforms.Normalize(data_mean, data_std)"
   ]
  },
  {
   "cell_type": "code",
   "execution_count": null,
   "id": "8",
   "metadata": {},
   "outputs": [],
   "source": [
    "def _get_split(split):\n",
    "    temp = data[[\"filepath\", \"label\"]][data[\"split\"] == split]\n",
    "    df = pd.DataFrame({\"filepath\": temp[\"filepath\"], \"label\": temp[\"label\"]})\n",
    "    return df\n",
    "\n",
    "\n",
    "train = _get_split(\"train\")\n",
    "test = _get_split(\"test\")\n",
    "valid = _get_split(\"valid\")"
   ]
  },
  {
   "cell_type": "code",
   "execution_count": null,
   "id": "9",
   "metadata": {},
   "outputs": [],
   "source": [
    "img_dir = train_config[\"paths\"][\"data\"]\n",
    "\n",
    "train_set = CreateTorchDataset(\n",
    "    train[\"label\"].to_numpy(),\n",
    "    train[\"filepath\"].to_numpy(),\n",
    "    img_dir=img_dir,\n",
    ")\n",
    "test_set = CreateTorchDataset(\n",
    "    test[\"label\"].to_numpy(), test[\"filepath\"].to_numpy(), img_dir=img_dir\n",
    ")\n",
    "val_set = CreateTorchDataset(\n",
    "    valid[\"label\"].to_numpy(),\n",
    "    valid[\"filepath\"].to_numpy(),\n",
    "    img_dir=img_dir,\n",
    ")\n",
    "\n",
    "train = None\n",
    "test = None\n",
    "valid = None\n",
    "\n",
    "del train, test, valid"
   ]
  },
  {
   "cell_type": "code",
   "execution_count": null,
   "id": "10",
   "metadata": {},
   "outputs": [],
   "source": [
    "train_loader = torch.utils.data.DataLoader(\n",
    "    train_set,\n",
    "    batch_size=train_config[\"batch_size\"],\n",
    "    shuffle=True,\n",
    "    drop_last=True,\n",
    "    pin_memory=True,\n",
    "    num_workers=4,\n",
    ")\n",
    "val_loader = torch.utils.data.DataLoader(\n",
    "    val_set,\n",
    "    batch_size=train_config[\"batch_size\"],\n",
    "    shuffle=False,\n",
    "    drop_last=False,\n",
    "    num_workers=4,\n",
    ")\n",
    "test_loader = torch.utils.data.DataLoader(\n",
    "    test_set,\n",
    "    batch_size=train_config[\"batch_size\"],\n",
    "    shuffle=False,\n",
    "    drop_last=False,\n",
    "    num_workers=4,\n",
    ")"
   ]
  },
  {
   "cell_type": "code",
   "execution_count": null,
   "id": "11",
   "metadata": {},
   "outputs": [],
   "source": [
    "model, result, trainer = train_model(\n",
    "    train_config[\"model_name\"],\n",
    "    train_loader,\n",
    "    val_loader,\n",
    "    test_loader,\n",
    "    checkpoint_path=train_config[\"paths\"][\"model\"],\n",
    "    epochs=train_config[\"epochs\"],\n",
    "    save_name=train_config[\"save_name\"],\n",
    "    model_hparams=train_config[\"net_hyperparams\"],\n",
    "    optimizer_name=train_config[\"optimizer\"],\n",
    "    optimizer_hparams=train_config[\"opt_hyperparams\"],\n",
    ")"
   ]
  },
  {
   "cell_type": "code",
   "execution_count": null,
   "id": "12",
   "metadata": {},
   "outputs": [],
   "source": [
    "result"
   ]
  },
  {
   "cell_type": "code",
   "execution_count": null,
   "id": "13",
   "metadata": {},
   "outputs": [],
   "source": [
    "device = \"cuda\" if torch.cuda.is_available() else \"cpu\"\n",
    "\n",
    "test_img = list(iter(test_loader))"
   ]
  },
  {
   "cell_type": "code",
   "execution_count": null,
   "id": "14",
   "metadata": {},
   "outputs": [],
   "source": [
    "model = TrainModule.load_from_checkpoint(\n",
    "    \"../build/checkpoints/ResNet16_prelu_PreAct/lightning_logs/version_2/checkpoints/epoch=112-step=9831.ckpt\"\n",
    ")\n",
    "pred = model(test_img[0][0].to(device))"
   ]
  },
  {
   "cell_type": "code",
   "execution_count": null,
   "id": "15",
   "metadata": {},
   "outputs": [],
   "source": [
    "with torch.no_grad():\n",
    "    preds = np.argmax(pred.to(\"cpu\"), axis=1)"
   ]
  },
  {
   "cell_type": "code",
   "execution_count": null,
   "id": "16",
   "metadata": {},
   "outputs": [],
   "source": [
    "(test_img[0][1] == preds).sum() / len(preds)"
   ]
  },
  {
   "cell_type": "code",
   "execution_count": null,
   "id": "17",
   "metadata": {},
   "outputs": [],
   "source": [
    "test_img[0]"
   ]
  },
  {
   "cell_type": "code",
   "execution_count": null,
   "id": "18",
   "metadata": {},
   "outputs": [],
   "source": [
    "for im in test_img[0][0][:2]:\n",
    "    print(im.squeeze())"
   ]
  },
  {
   "cell_type": "code",
   "execution_count": null,
   "id": "19",
   "metadata": {},
   "outputs": [],
   "source": [
    "labels_map = {\n",
    "    0: \"FRI\",\n",
    "    1: \"FRII\",\n",
    "    2: \"Compact\",\n",
    "    3: \"Bent\",\n",
    "}\n",
    "\n",
    "if len(test_img[0]) > 16:\n",
    "    images = test_img[0][0][:16]\n",
    "    labels = test_img[0][1][:16]\n",
    "    labels_pred = preds[:16]\n",
    "else:\n",
    "    images = test_img[0][0]\n",
    "    labels = test_img[0][1]\n",
    "    labels_pred = preds\n",
    "\n",
    "figure, axs = plt.subplots(4, 4, figsize=(16, 16))\n",
    "axs = axs.flatten()\n",
    "\n",
    "for ax, img, label, label_pred in zip(axs, images, labels, labels_pred):\n",
    "    img = img.squeeze()\n",
    "    label = label.item()\n",
    "    label_pred = label_pred.item()\n",
    "\n",
    "    correct = label_pred == label\n",
    "\n",
    "    ax.text(\n",
    "        0.05,\n",
    "        0.95,\n",
    "        f\"{labels_map[label]} (truth)\",\n",
    "        horizontalalignment=\"left\",\n",
    "        verticalalignment=\"top\",\n",
    "        transform=ax.transAxes,\n",
    "        color=\"white\",\n",
    "        fontsize=14,\n",
    "    )\n",
    "    ax.text(\n",
    "        0.05,\n",
    "        0.85,\n",
    "        labels_map[label_pred],\n",
    "        horizontalalignment=\"left\",\n",
    "        verticalalignment=\"top\",\n",
    "        transform=ax.transAxes,\n",
    "        color=\"green\" if correct else \"red\",\n",
    "        fontsize=14,\n",
    "    )\n",
    "    ax.axis(\"off\")\n",
    "    ax.imshow(img, cmap=\"inferno\")\n",
    "\n",
    "plt.show()"
   ]
  },
  {
   "cell_type": "code",
   "execution_count": null,
   "id": "20",
   "metadata": {},
   "outputs": [],
   "source": []
  }
 ],
 "metadata": {
  "kernelspec": {
   "display_name": "Python 3 (ipykernel)",
   "language": "python",
   "name": "python3"
  },
  "language_info": {
   "codemirror_mode": {
    "name": "ipython",
    "version": 3
   },
   "file_extension": ".py",
   "mimetype": "text/x-python",
   "name": "python",
   "nbconvert_exporter": "python",
   "pygments_lexer": "ipython3",
   "version": "3.11.9"
  }
 },
 "nbformat": 4,
 "nbformat_minor": 5
}
