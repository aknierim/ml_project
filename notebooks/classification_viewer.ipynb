{
 "cells": [
  {
   "cell_type": "markdown",
   "id": "0",
   "metadata": {},
   "source": [
    "# Classification Viewer"
   ]
  },
  {
   "cell_type": "code",
   "execution_count": null,
   "id": "1",
   "metadata": {},
   "outputs": [],
   "source": [
    "import gc\n",
    "\n",
    "import matplotlib.pyplot as plt\n",
    "import numpy as np\n",
    "import torch\n",
    "from rich.progress import track\n",
    "from sklearn.metrics import accuracy_score, roc_auc_score\n",
    "from sklearn.utils import shuffle\n",
    "\n",
    "from rolf.eval import conf_matrix\n",
    "from rolf.io import ReadHDF5\n",
    "from rolf.tools.toml_reader import ReadConfig\n",
    "from rolf.training import TrainModule\n",
    "\n",
    "device = \"cuda\" if torch.cuda.is_available() else \"cpu\""
   ]
  },
  {
   "cell_type": "code",
   "execution_count": null,
   "id": "2",
   "metadata": {},
   "outputs": [],
   "source": [
    "config = ReadConfig(\"../configs/resnet_tuning.toml\")\n",
    "train_config = config.training()"
   ]
  },
  {
   "cell_type": "code",
   "execution_count": null,
   "id": "3",
   "metadata": {},
   "outputs": [],
   "source": [
    "h5 = ReadHDF5(\n",
    "    \"../data/galaxy_data_h5.h5\", validation_ratio=0.2, test_ratio=0.2, random_state=423\n",
    ")\n",
    "h5.make_transformer()\n",
    "train_loader, val_loader, test_loader = h5.create_data_loaders(\n",
    "    batch_size=20, img_dir=train_config[\"paths\"][\"data\"]\n",
    ")"
   ]
  },
  {
   "cell_type": "code",
   "execution_count": null,
   "id": "4",
   "metadata": {},
   "outputs": [],
   "source": [
    "ckpt_path = \"../trained_models/resnet_best/checkpoints/epoch=140-step=1551.ckpt\""
   ]
  },
  {
   "cell_type": "code",
   "execution_count": null,
   "id": "5",
   "metadata": {},
   "outputs": [],
   "source": [
    "test_img = list(iter(test_loader))\n",
    "test_images = np.concatenate([test_img[i][0] for i in range(len(test_img))])"
   ]
  },
  {
   "cell_type": "code",
   "execution_count": null,
   "id": "6",
   "metadata": {},
   "outputs": [],
   "source": [
    "temp_preds = []\n",
    "temp_truths = []\n",
    "temp_confs = []\n",
    "for i in track(range(len(test_img)), description=\"Predicting: \"):\n",
    "    model = TrainModule.load_from_checkpoint(ckpt_path)\n",
    "    model.eval()\n",
    "    conf = model(test_img[i][0].to(device)).softmax(dim=1)\n",
    "\n",
    "    with torch.no_grad():\n",
    "        pred = np.argmax(conf.to(\"cpu\"), axis=1)\n",
    "\n",
    "    temp_confs.append(conf.cpu().detach().numpy())\n",
    "    temp_preds.append(pred)\n",
    "    temp_truths.append(test_img[i][1])\n",
    "\n",
    "    del model\n",
    "    gc.collect()\n",
    "    torch.cuda.empty_cache()"
   ]
  },
  {
   "cell_type": "code",
   "execution_count": null,
   "id": "7",
   "metadata": {},
   "outputs": [],
   "source": [
    "preds = np.concatenate(temp_preds)\n",
    "confs = np.concatenate(temp_confs)\n",
    "truths = np.concatenate(temp_truths)"
   ]
  },
  {
   "cell_type": "markdown",
   "id": "8",
   "metadata": {},
   "source": [
    "## Plot Confusion Matrix"
   ]
  },
  {
   "cell_type": "code",
   "execution_count": null,
   "id": "9",
   "metadata": {},
   "outputs": [],
   "source": [
    "fig, ax = plt.subplots(layout=\"constrained\")\n",
    "\n",
    "_, _, cm = conf_matrix(\n",
    "    truths,\n",
    "    preds,\n",
    "    normalize=\"pred\",\n",
    "    ax=ax,\n",
    "    labels=[\"FR-I\", \"FR-II\", \"Compact\", \"Bent\"],\n",
    "    cmap=\"inferno\",\n",
    "    valfmt=\"{x:0.2f}\",\n",
    ")"
   ]
  },
  {
   "cell_type": "markdown",
   "id": "10",
   "metadata": {},
   "source": [
    "## Get Metric Scores"
   ]
  },
  {
   "cell_type": "code",
   "execution_count": null,
   "id": "11",
   "metadata": {},
   "outputs": [],
   "source": [
    "roc_auc = roc_auc_score(\n",
    "    truths,\n",
    "    confs,\n",
    "    multi_class=\"ovo\",\n",
    "    average=\"macro\",\n",
    "    labels=[0, 1, 2, 3],\n",
    ")\n",
    "roc_auc"
   ]
  },
  {
   "cell_type": "code",
   "execution_count": null,
   "id": "12",
   "metadata": {},
   "outputs": [],
   "source": [
    "accuracy_score(truths, preds)"
   ]
  },
  {
   "cell_type": "markdown",
   "id": "13",
   "metadata": {},
   "source": [
    "## Plot Random Sample of Images"
   ]
  },
  {
   "cell_type": "code",
   "execution_count": null,
   "id": "14",
   "metadata": {},
   "outputs": [],
   "source": [
    "test_images, truths, preds = shuffle(test_images, truths, preds, random_state=42)"
   ]
  },
  {
   "cell_type": "code",
   "execution_count": null,
   "id": "15",
   "metadata": {},
   "outputs": [],
   "source": [
    "labels_map = {\n",
    "    0: \"FRI\",\n",
    "    1: \"FRII\",\n",
    "    2: \"Compact\",\n",
    "    3: \"Bent\",\n",
    "}\n",
    "\n",
    "images = test_images[:16]\n",
    "labels = truths[:16]\n",
    "labels_pred = preds[:16]\n",
    "\n",
    "fig, axs = plt.subplots(4, 4, figsize=(12, 12), layout=\"constrained\")\n",
    "axs = axs.flatten()\n",
    "\n",
    "for ax, img, label, label_pred in zip(axs, images, labels, labels_pred):\n",
    "    img = img.squeeze()\n",
    "    label = label.item()\n",
    "    label_pred = label_pred\n",
    "\n",
    "    correct = label_pred == label\n",
    "\n",
    "    ax.text(\n",
    "        0.05,\n",
    "        0.95,\n",
    "        f\"Truth: {labels_map[label]}\",\n",
    "        horizontalalignment=\"left\",\n",
    "        verticalalignment=\"top\",\n",
    "        transform=ax.transAxes,\n",
    "        color=\"white\",\n",
    "        fontsize=16,\n",
    "    )\n",
    "    ax.text(\n",
    "        0.05,\n",
    "        0.85,\n",
    "        \"Pred:\",\n",
    "        horizontalalignment=\"left\",\n",
    "        verticalalignment=\"top\",\n",
    "        transform=ax.transAxes,\n",
    "        color=\"white\",\n",
    "        fontsize=16,\n",
    "    )\n",
    "    ax.text(\n",
    "        0.295,\n",
    "        0.85,\n",
    "        f\"{labels_map[label_pred]}\",\n",
    "        horizontalalignment=\"left\",\n",
    "        verticalalignment=\"top\",\n",
    "        transform=ax.transAxes,\n",
    "        color=\"limegreen\" if correct else \"red\",\n",
    "        fontsize=16,\n",
    "    )\n",
    "    ax.patch.set_edgecolor(\"limegreen\" if correct else \"red\")\n",
    "    ax.patch.set_linewidth(5)\n",
    "\n",
    "    ax.set(\n",
    "        xticks=[],\n",
    "        xticklabels=[],\n",
    "        yticks=[],\n",
    "        yticklabels=[],\n",
    "    )\n",
    "    ax.imshow(img, cmap=\"inferno\")\n",
    "\n",
    "plt.show()\n",
    "fig.savefig(\"../build/test_img_pred.pdf\")"
   ]
  }
 ],
 "metadata": {
  "kernelspec": {
   "display_name": "Python 3 (ipykernel)",
   "language": "python",
   "name": "python3"
  },
  "language_info": {
   "codemirror_mode": {
    "name": "ipython",
    "version": 3
   },
   "file_extension": ".py",
   "mimetype": "text/x-python",
   "name": "python",
   "nbconvert_exporter": "python",
   "pygments_lexer": "ipython3",
   "version": "3.11.9"
  }
 },
 "nbformat": 4,
 "nbformat_minor": 5
}
