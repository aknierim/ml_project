{
 "cells": [
  {
   "cell_type": "code",
   "execution_count": null,
   "id": "0",
   "metadata": {},
   "outputs": [],
   "source": [
    "import gc\n",
    "\n",
    "import ipywidgets as widgets\n",
    "import lightning as L\n",
    "import matplotlib.pyplot as plt\n",
    "import numpy as np\n",
    "import pandas as pd\n",
    "import torch\n",
    "from tqdm.notebook import tqdm\n",
    "\n",
    "from rolf.io import ReadHDF5\n",
    "from rolf.tools.toml_reader import ReadConfig\n",
    "from rolf.training.training import TrainModule\n",
    "\n",
    "device = \"cuda:0\" if torch.cuda.is_available() else \"cpu\"\n",
    "\n",
    "plt.style.use(\"../dark.mplstyle\")"
   ]
  },
  {
   "cell_type": "code",
   "execution_count": null,
   "id": "1",
   "metadata": {},
   "outputs": [],
   "source": [
    "config = ReadConfig(\"../configs/resnet_tuning.toml\")\n",
    "train_config = config.training()"
   ]
  },
  {
   "cell_type": "code",
   "execution_count": null,
   "id": "2",
   "metadata": {},
   "outputs": [],
   "source": [
    "h5 = ReadHDF5(\n",
    "    \"../data/galaxy_data_h5.h5\", validation_ratio=0.1, test_ratio=0.05, random_state=423\n",
    ")\n",
    "_, _, test_set = h5.create_torch_datasets(img_dir=\"../data/galaxy_data/all\")\n",
    "\n",
    "test_loader = torch.utils.data.DataLoader(\n",
    "    test_set,\n",
    "    batch_size=20,\n",
    "    shuffle=False,\n",
    "    drop_last=False,\n",
    "    num_workers=4,\n",
    ")\n",
    "test_img = list(iter(test_loader))"
   ]
  },
  {
   "cell_type": "code",
   "execution_count": null,
   "id": "3",
   "metadata": {},
   "outputs": [],
   "source": [
    "ckpt_path = \"../build/checkpoints/resnet_tuning_j2_e90/lightning_logs/version_102/checkpoints/epoch=83-step=5124.ckpt\""
   ]
  },
  {
   "cell_type": "code",
   "execution_count": null,
   "id": "4",
   "metadata": {},
   "outputs": [],
   "source": [
    "len(test_img)"
   ]
  },
  {
   "cell_type": "code",
   "execution_count": null,
   "id": "5",
   "metadata": {},
   "outputs": [],
   "source": [
    "test_images = np.concatenate([test_img[i][0] for i in range(len(test_img))])"
   ]
  },
  {
   "cell_type": "code",
   "execution_count": null,
   "id": "6",
   "metadata": {},
   "outputs": [],
   "source": [
    "temp_preds = []\n",
    "temp_truths = []\n",
    "for i in tqdm(range(len(test_img))):\n",
    "    model = TrainModule.load_from_checkpoint(ckpt_path)\n",
    "    model.eval()\n",
    "    conf = model(test_img[i][0].to(\"cuda:0\"))\n",
    "\n",
    "    with torch.no_grad():\n",
    "        pred = np.argmax(conf.to(\"cpu\"), axis=1)\n",
    "\n",
    "    temp_preds.append(pred)\n",
    "    temp_truths.append(test_img[i][1])\n",
    "\n",
    "    del model\n",
    "    gc.collect()\n",
    "    torch.cuda.empty_cache()"
   ]
  },
  {
   "cell_type": "code",
   "execution_count": null,
   "id": "7",
   "metadata": {},
   "outputs": [],
   "source": [
    "preds = np.concatenate(temp_preds)\n",
    "truths = np.concatenate(temp_truths)"
   ]
  },
  {
   "cell_type": "code",
   "execution_count": null,
   "id": "8",
   "metadata": {},
   "outputs": [],
   "source": [
    "preds, truths, len(preds), len(truths)"
   ]
  },
  {
   "cell_type": "code",
   "execution_count": null,
   "id": "9",
   "metadata": {},
   "outputs": [],
   "source": [
    "mask = np.array(truths) == np.array(preds)\n",
    "\n",
    "np.sum(mask) / len(mask), mask"
   ]
  },
  {
   "cell_type": "code",
   "execution_count": null,
   "id": "10",
   "metadata": {},
   "outputs": [],
   "source": [
    "labels_map = {\n",
    "    0: \"FRI\",\n",
    "    1: \"FRII\",\n",
    "    2: \"Compact\",\n",
    "    3: \"Bent\",\n",
    "}\n",
    "\n",
    "images = test_images[37:53]\n",
    "labels = truths[37:53]\n",
    "labels_pred = preds[37:53]\n",
    "\n",
    "fig, axs = plt.subplots(4, 4, figsize=(12, 12), layout=\"constrained\")\n",
    "axs = axs.flatten()\n",
    "\n",
    "for ax, img, label, label_pred in zip(axs, images, labels, labels_pred):\n",
    "    img = img.squeeze()\n",
    "    label = label.item()\n",
    "    label_pred = label_pred\n",
    "\n",
    "    correct = label_pred == label\n",
    "\n",
    "    ax.text(\n",
    "        0.05,\n",
    "        0.95,\n",
    "        f\"Truth: {labels_map[label]}\",\n",
    "        horizontalalignment=\"left\",\n",
    "        verticalalignment=\"top\",\n",
    "        transform=ax.transAxes,\n",
    "        color=\"white\",\n",
    "        fontsize=16,\n",
    "    )\n",
    "    ax.text(\n",
    "        0.05,\n",
    "        0.85,\n",
    "        \"Pred:\",\n",
    "        horizontalalignment=\"left\",\n",
    "        verticalalignment=\"top\",\n",
    "        transform=ax.transAxes,\n",
    "        color=\"white\",\n",
    "        fontsize=16,\n",
    "    )\n",
    "    ax.text(\n",
    "        0.295,\n",
    "        0.85,\n",
    "        f\"{labels_map[label_pred]}\",\n",
    "        horizontalalignment=\"left\",\n",
    "        verticalalignment=\"top\",\n",
    "        transform=ax.transAxes,\n",
    "        color=\"limegreen\" if correct else \"red\",\n",
    "        fontsize=16,\n",
    "    )\n",
    "    ax.patch.set_edgecolor(\"limegreen\" if correct else \"red\")\n",
    "    ax.patch.set_linewidth(5)\n",
    "\n",
    "    ax.set(\n",
    "        xticks=[],\n",
    "        xticklabels=[],\n",
    "        yticks=[],\n",
    "        yticklabels=[],\n",
    "    )\n",
    "    ax.imshow(img, cmap=\"inferno\")\n",
    "\n",
    "plt.show()\n",
    "fig.savefig(\"../build/test_img_pred.pdf\")"
   ]
  },
  {
   "cell_type": "code",
   "execution_count": null,
   "id": "11",
   "metadata": {},
   "outputs": [],
   "source": [
    "fig, axs = plt.subplots(1, 1, figsize=(7, 7), layout=\"constrained\")\n",
    "\n",
    "img = test_images[0].squeeze()\n",
    "label = truths[0]\n",
    "label_pred = preds[0]\n",
    "\n",
    "axs.set(\n",
    "    xticks=[],\n",
    "    xticklabels=[],\n",
    "    yticks=[],\n",
    "    yticklabels=[],\n",
    ")\n",
    "im = axs.imshow(img, cmap=\"inferno\")\n",
    "\n",
    "\n",
    "@widgets.interact(index=(0, len(test_images) - 1, 1))\n",
    "def update(index=0):\n",
    "    img = test_images[index].squeeze()\n",
    "    label = truths[index]\n",
    "    label_pred = preds[index]\n",
    "\n",
    "    im.set_data(img)"
   ]
  },
  {
   "cell_type": "code",
   "execution_count": null,
   "id": "12",
   "metadata": {},
   "outputs": [],
   "source": [
    "fig, ax = plt.subplots(layout=\"constrained\")\n",
    "\n",
    "ax.hist(truths, label=\"Truths\", align=\"left\")\n",
    "ax.hist(preds, label=\"Predictions\", align=\"right\")\n",
    "\n",
    "ax.set(xticks=np.unique(truths), xticklabels=labels_map.values())\n",
    "\n",
    "ax.legend()\n",
    "\n",
    "fig.savefig(\"../build/preds_truths_hist.pdf\")"
   ]
  },
  {
   "cell_type": "code",
   "execution_count": null,
   "id": "13",
   "metadata": {},
   "outputs": [],
   "source": [
    "val_acc = pd.read_csv(\"../data/log102_val_acc.csv\")\n",
    "train_acc = pd.read_csv(\"../data/log102_train_acc.csv\")"
   ]
  },
  {
   "cell_type": "code",
   "execution_count": null,
   "id": "14",
   "metadata": {},
   "outputs": [],
   "source": [
    "val_acc"
   ]
  },
  {
   "cell_type": "code",
   "execution_count": null,
   "id": "15",
   "metadata": {},
   "outputs": [],
   "source": [
    "train_acc"
   ]
  },
  {
   "cell_type": "code",
   "execution_count": null,
   "id": "16",
   "metadata": {},
   "outputs": [],
   "source": [
    "fig, ax = plt.subplots(layout=\"constrained\")\n",
    "\n",
    "ax.plot(train_acc[\"Step\"], train_acc[\"Value\"], label=\"Train Acc\")\n",
    "ax.plot(val_acc[\"Step\"], val_acc[\"Value\"], label=\"Validation Acc\")\n",
    "\n",
    "ax.set(xlabel=\"Step\", ylabel=\"Accuracy\")\n",
    "\n",
    "ax.legend()"
   ]
  },
  {
   "cell_type": "code",
   "execution_count": null,
   "id": "17",
   "metadata": {},
   "outputs": [],
   "source": []
  }
 ],
 "metadata": {
  "kernelspec": {
   "display_name": "Python 3 (ipykernel)",
   "language": "python",
   "name": "python3"
  },
  "language_info": {
   "codemirror_mode": {
    "name": "ipython",
    "version": 3
   },
   "file_extension": ".py",
   "mimetype": "text/x-python",
   "name": "python",
   "nbconvert_exporter": "python",
   "pygments_lexer": "ipython3",
   "version": "3.11.9"
  }
 },
 "nbformat": 4,
 "nbformat_minor": 5
}
